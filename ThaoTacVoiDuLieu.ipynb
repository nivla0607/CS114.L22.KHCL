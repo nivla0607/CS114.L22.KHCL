{
  "nbformat": 4,
  "nbformat_minor": 0,
  "metadata": {
    "colab": {
      "name": "ThaoTacVoiDuLieu.ipynb",
      "provenance": [],
      "collapsed_sections": [],
      "authorship_tag": "ABX9TyNGr+T48LvdPf+xC63B0dZ7",
      "include_colab_link": true
    },
    "kernelspec": {
      "name": "python3",
      "display_name": "Python 3"
    },
    "language_info": {
      "name": "python"
    }
  },
  "cells": [
    {
      "cell_type": "markdown",
      "metadata": {
        "id": "view-in-github",
        "colab_type": "text"
      },
      "source": [
        "<a href=\"https://colab.research.google.com/github/nivla0607/CS114.L22.KHCL/blob/main/ThaoTacVoiDuLieu.ipynb\" target=\"_parent\"><img src=\"https://colab.research.google.com/assets/colab-badge.svg\" alt=\"Open In Colab\"/></a>"
      ]
    },
    {
      "cell_type": "code",
      "metadata": {
        "id": "RvRtpz88chxF"
      },
      "source": [
        "pip install mxnet==1.6.0"
      ],
      "execution_count": null,
      "outputs": []
    },
    {
      "cell_type": "code",
      "metadata": {
        "id": "xQ8YV5Rld1Bk"
      },
      "source": [
        "from mxnet import np, npx\n",
        "npx.set_np()"
      ],
      "execution_count": null,
      "outputs": []
    },
    {
      "cell_type": "code",
      "metadata": {
        "colab": {
          "base_uri": "https://localhost:8080/"
        },
        "id": "axbrnTkQd6Xc",
        "outputId": "6ef0b29e-f889-4b41-b99f-48efe94bb3d1"
      },
      "source": [
        "x = np.arange(12)\n",
        "x"
      ],
      "execution_count": null,
      "outputs": [
        {
          "output_type": "execute_result",
          "data": {
            "text/plain": [
              "array([ 0.,  1.,  2.,  3.,  4.,  5.,  6.,  7.,  8.,  9., 10., 11.])"
            ]
          },
          "metadata": {
            "tags": []
          },
          "execution_count": 33
        }
      ]
    },
    {
      "cell_type": "code",
      "metadata": {
        "colab": {
          "base_uri": "https://localhost:8080/"
        },
        "id": "NaeNQJv1d85E",
        "outputId": "40bd0723-c8bc-4388-b4da-d96be762bd58"
      },
      "source": [
        "x.shape"
      ],
      "execution_count": null,
      "outputs": [
        {
          "output_type": "execute_result",
          "data": {
            "text/plain": [
              "(12,)"
            ]
          },
          "metadata": {
            "tags": []
          },
          "execution_count": 34
        }
      ]
    },
    {
      "cell_type": "code",
      "metadata": {
        "colab": {
          "base_uri": "https://localhost:8080/"
        },
        "id": "HuV-_-8feCIc",
        "outputId": "0e09754b-a836-4046-95da-e42be70fc596"
      },
      "source": [
        "x.size"
      ],
      "execution_count": null,
      "outputs": [
        {
          "output_type": "execute_result",
          "data": {
            "text/plain": [
              "12"
            ]
          },
          "metadata": {
            "tags": []
          },
          "execution_count": 8
        }
      ]
    },
    {
      "cell_type": "code",
      "metadata": {
        "colab": {
          "base_uri": "https://localhost:8080/"
        },
        "id": "aY9hA83ueJEO",
        "outputId": "9de61ed5-355c-4926-c52a-7c5659a0c476"
      },
      "source": [
        "x = x.reshape(3,4)\n",
        "x"
      ],
      "execution_count": null,
      "outputs": [
        {
          "output_type": "execute_result",
          "data": {
            "text/plain": [
              "array([[ 0.,  1.,  2.,  3.],\n",
              "       [ 4.,  5.,  6.,  7.],\n",
              "       [ 8.,  9., 10., 11.]])"
            ]
          },
          "metadata": {
            "tags": []
          },
          "execution_count": 9
        }
      ]
    },
    {
      "cell_type": "code",
      "metadata": {
        "colab": {
          "base_uri": "https://localhost:8080/"
        },
        "id": "VDkJcB2jygKU",
        "outputId": "6af639dd-6828-4045-ecf4-e7fd01938318"
      },
      "source": [
        "x.reshape(3,-1)\n",
        "x"
      ],
      "execution_count": null,
      "outputs": [
        {
          "output_type": "execute_result",
          "data": {
            "text/plain": [
              "array([[ 0.,  1.,  2.,  3.],\n",
              "       [ 4.,  5.,  6.,  7.],\n",
              "       [ 8.,  9., 10., 11.]])"
            ]
          },
          "metadata": {
            "tags": []
          },
          "execution_count": 18
        }
      ]
    },
    {
      "cell_type": "code",
      "metadata": {
        "colab": {
          "base_uri": "https://localhost:8080/"
        },
        "id": "oqZwam79eQFk",
        "outputId": "8903ad00-d23a-4d5d-ca1e-36b718293814"
      },
      "source": [
        "np.empty((3, 4))"
      ],
      "execution_count": null,
      "outputs": [
        {
          "output_type": "execute_result",
          "data": {
            "text/plain": [
              "array([[1.5746807e+11, 3.0616970e-41, 0.0000000e+00, 0.0000000e+00],\n",
              "       [0.0000000e+00, 0.0000000e+00, 0.0000000e+00, 0.0000000e+00],\n",
              "       [0.0000000e+00, 0.0000000e+00, 0.0000000e+00, 0.0000000e+00]])"
            ]
          },
          "metadata": {
            "tags": []
          },
          "execution_count": 10
        }
      ]
    },
    {
      "cell_type": "code",
      "metadata": {
        "colab": {
          "base_uri": "https://localhost:8080/"
        },
        "id": "2sXzBwtZeVi8",
        "outputId": "19deb787-37cf-4cf4-b577-f94220a5d9a0"
      },
      "source": [
        "np.zeros((2, 3, 4))"
      ],
      "execution_count": null,
      "outputs": [
        {
          "output_type": "execute_result",
          "data": {
            "text/plain": [
              "array([[[0., 0., 0., 0.],\n",
              "        [0., 0., 0., 0.],\n",
              "        [0., 0., 0., 0.]],\n",
              "\n",
              "       [[0., 0., 0., 0.],\n",
              "        [0., 0., 0., 0.],\n",
              "        [0., 0., 0., 0.]]])"
            ]
          },
          "metadata": {
            "tags": []
          },
          "execution_count": 21
        }
      ]
    },
    {
      "cell_type": "code",
      "metadata": {
        "colab": {
          "base_uri": "https://localhost:8080/"
        },
        "id": "UoiULUvTeZG8",
        "outputId": "a436fb35-6a16-4c84-f83b-8afb59b6c843"
      },
      "source": [
        "np.ones((2, 3, 4))"
      ],
      "execution_count": null,
      "outputs": [
        {
          "output_type": "execute_result",
          "data": {
            "text/plain": [
              "array([[[1., 1., 1., 1.],\n",
              "        [1., 1., 1., 1.],\n",
              "        [1., 1., 1., 1.]],\n",
              "\n",
              "       [[1., 1., 1., 1.],\n",
              "        [1., 1., 1., 1.],\n",
              "        [1., 1., 1., 1.]]])"
            ]
          },
          "metadata": {
            "tags": []
          },
          "execution_count": 12
        }
      ]
    },
    {
      "cell_type": "code",
      "metadata": {
        "colab": {
          "base_uri": "https://localhost:8080/"
        },
        "id": "4fFID09eed_s",
        "outputId": "bae1c36e-2c88-4bfb-e78b-7a7ac6993115"
      },
      "source": [
        "arr = np.random.normal(0, 1, size=(4, 4))\n",
        "arr, arr.sum()"
      ],
      "execution_count": null,
      "outputs": [
        {
          "output_type": "execute_result",
          "data": {
            "text/plain": [
              "(array([[ 1.0731696 ,  1.8307649 ,  0.12017461, -1.1468065 ],\n",
              "        [-0.9711102 ,  0.05383795, -0.77569664, -2.5074806 ],\n",
              "        [-0.7882176 , -0.59164983,  0.7417728 ,  0.8586049 ],\n",
              "        [-1.4734439 , -0.22794184, -1.0730928 ,  0.20131476]]),\n",
              " array(-4.6758003))"
            ]
          },
          "metadata": {
            "tags": []
          },
          "execution_count": 27
        }
      ]
    },
    {
      "cell_type": "code",
      "metadata": {
        "colab": {
          "base_uri": "https://localhost:8080/"
        },
        "id": "THBwg1QEewTb",
        "outputId": "fe3f2b64-685a-48c6-b2b4-fe3ba2e9efa5"
      },
      "source": [
        "np.array([[2, 1, 4, 3], [1, 2, 3, 4], [4, 3, 2, 1]])"
      ],
      "execution_count": null,
      "outputs": [
        {
          "output_type": "execute_result",
          "data": {
            "text/plain": [
              "array([[2., 1., 4., 3.],\n",
              "       [1., 2., 3., 4.],\n",
              "       [4., 3., 2., 1.]])"
            ]
          },
          "metadata": {
            "tags": []
          },
          "execution_count": 16
        }
      ]
    },
    {
      "cell_type": "code",
      "metadata": {
        "id": "vgYEGeYEeyVt",
        "colab": {
          "base_uri": "https://localhost:8080/"
        },
        "outputId": "40eb8bbe-cfef-4f9c-f2ee-dc05118f37cd"
      },
      "source": [
        "x = np.array([7, 11, 4, 13])\n",
        "y = np.array([2,9, 11, 4])\n",
        "x + y, x - y, x * y, x / y, x ** y  "
      ],
      "execution_count": null,
      "outputs": [
        {
          "output_type": "execute_result",
          "data": {
            "text/plain": [
              "(array([ 9., 20., 15., 17.]),\n",
              " array([ 5.,  2., -7.,  9.]),\n",
              " array([14., 99., 44., 52.]),\n",
              " array([3.5       , 1.2222222 , 0.36363637, 3.25      ]),\n",
              " array([4.9000000e+01, 2.3579476e+09, 4.1943040e+06, 2.8561000e+04]))"
            ]
          },
          "metadata": {
            "tags": []
          },
          "execution_count": 6
        }
      ]
    },
    {
      "cell_type": "code",
      "metadata": {
        "colab": {
          "base_uri": "https://localhost:8080/"
        },
        "id": "Yxef9jlp0xtd",
        "outputId": "23e1f178-c671-42d9-93c6-fca6a8aedd90"
      },
      "source": [
        "np.exp(x)"
      ],
      "execution_count": null,
      "outputs": [
        {
          "output_type": "execute_result",
          "data": {
            "text/plain": [
              "array([1.0966332e+03, 5.9874141e+04, 5.4598148e+01, 4.4241341e+05])"
            ]
          },
          "metadata": {
            "tags": []
          },
          "execution_count": 7
        }
      ]
    },
    {
      "cell_type": "code",
      "metadata": {
        "colab": {
          "base_uri": "https://localhost:8080/"
        },
        "id": "VMckevkp1bSt",
        "outputId": "3ded5004-a034-4e75-f999-91c06f1c679f"
      },
      "source": [
        "x = np.arange(12).reshape(3, 4)\n",
        "y = np.array([[5, 7, 3, 8], [1, 9, 4, 4], [5, 9, 7, 9]])\n",
        "np.concatenate([x, y], axis=0), np.concatenate([x, y], axis=1)"
      ],
      "execution_count": null,
      "outputs": [
        {
          "output_type": "execute_result",
          "data": {
            "text/plain": [
              "(array([[ 0.,  1.,  2.,  3.],\n",
              "        [ 4.,  5.,  6.,  7.],\n",
              "        [ 8.,  9., 10., 11.],\n",
              "        [ 5.,  7.,  3.,  8.],\n",
              "        [ 1.,  9.,  4.,  4.],\n",
              "        [ 5.,  9.,  7.,  9.]]),\n",
              " array([[ 0.,  1.,  2.,  3.,  5.,  7.,  3.,  8.],\n",
              "        [ 4.,  5.,  6.,  7.,  1.,  9.,  4.,  4.],\n",
              "        [ 8.,  9., 10., 11.,  5.,  9.,  7.,  9.]]))"
            ]
          },
          "metadata": {
            "tags": []
          },
          "execution_count": 10
        }
      ]
    },
    {
      "cell_type": "code",
      "metadata": {
        "colab": {
          "base_uri": "https://localhost:8080/"
        },
        "id": "-6Jyz9w92jgW",
        "outputId": "8979fed7-88f6-411e-85ee-8e402838943d"
      },
      "source": [
        "x == y"
      ],
      "execution_count": null,
      "outputs": [
        {
          "output_type": "execute_result",
          "data": {
            "text/plain": [
              "array([[False, False, False, False],\n",
              "       [False, False, False, False],\n",
              "       [False,  True, False, False]])"
            ]
          },
          "metadata": {
            "tags": []
          },
          "execution_count": 9
        }
      ]
    },
    {
      "cell_type": "code",
      "metadata": {
        "colab": {
          "base_uri": "https://localhost:8080/"
        },
        "id": "3fy3bAH15-Ct",
        "outputId": "2b785969-ae3c-43bd-9104-642040b1d7fe"
      },
      "source": [
        "x = np.arange(16).reshape(4, 4)\n",
        "x,x[-1],x[0:3] "
      ],
      "execution_count": null,
      "outputs": [
        {
          "output_type": "execute_result",
          "data": {
            "text/plain": [
              "(array([[ 0.,  1.,  2.,  3.],\n",
              "        [ 4.,  5.,  6.,  7.],\n",
              "        [ 8.,  9., 10., 11.],\n",
              "        [12., 13., 14., 15.]]),\n",
              " array([12., 13., 14., 15.]),\n",
              " array([[ 0.,  1.,  2.,  3.],\n",
              "        [ 4.,  5.,  6.,  7.],\n",
              "        [ 8.,  9., 10., 11.]]))"
            ]
          },
          "metadata": {
            "tags": []
          },
          "execution_count": 21
        }
      ]
    },
    {
      "cell_type": "code",
      "metadata": {
        "colab": {
          "base_uri": "https://localhost:8080/"
        },
        "id": "_SKiPO2a8pJH",
        "outputId": "5a3e94fc-25f9-4a14-8d7c-c730fcd0a59b"
      },
      "source": [
        "x[0,3] = 9\n",
        "x[1,2] = 6\n",
        "x[2,0] = 1\n",
        "x[3,1] = 2\n",
        "x\n"
      ],
      "execution_count": null,
      "outputs": [
        {
          "output_type": "execute_result",
          "data": {
            "text/plain": [
              "array([[ 0.,  1.,  2.,  9.],\n",
              "       [ 4.,  5.,  6.,  7.],\n",
              "       [ 1.,  9., 10., 11.],\n",
              "       [12.,  2., 14., 15.]])"
            ]
          },
          "metadata": {
            "tags": []
          },
          "execution_count": 4
        }
      ]
    },
    {
      "cell_type": "code",
      "metadata": {
        "colab": {
          "base_uri": "https://localhost:8080/"
        },
        "id": "n6fadB4d-OS-",
        "outputId": "5f3074d7-5036-4700-c4bd-95162c3e1f21"
      },
      "source": [
        "x[0:3, :] = 6\n",
        "x "
      ],
      "execution_count": null,
      "outputs": [
        {
          "output_type": "execute_result",
          "data": {
            "text/plain": [
              "array([[ 6.,  6.,  6.,  6.],\n",
              "       [ 6.,  6.,  6.,  6.],\n",
              "       [ 6.,  6.,  6.,  6.],\n",
              "       [12.,  2., 14., 15.]])"
            ]
          },
          "metadata": {
            "tags": []
          },
          "execution_count": 5
        }
      ]
    },
    {
      "cell_type": "code",
      "metadata": {
        "colab": {
          "base_uri": "https://localhost:8080/"
        },
        "id": "lol5EXOXAMp-",
        "outputId": "ab137220-24e5-4d97-9978-96bdc7ada13d"
      },
      "source": [
        "y = np.arange(16).reshape(4,4)\n",
        "y"
      ],
      "execution_count": null,
      "outputs": [
        {
          "output_type": "execute_result",
          "data": {
            "text/plain": [
              "array([[ 0.,  1.,  2.,  3.],\n",
              "       [ 4.,  5.,  6.,  7.],\n",
              "       [ 8.,  9., 10., 11.],\n",
              "       [12., 13., 14., 15.]])"
            ]
          },
          "metadata": {
            "tags": []
          },
          "execution_count": 6
        }
      ]
    },
    {
      "cell_type": "code",
      "metadata": {
        "colab": {
          "base_uri": "https://localhost:8080/"
        },
        "id": "81SDW7VoAtGn",
        "outputId": "470d881d-18cb-4def-b149-fdcbe22962b5"
      },
      "source": [
        "before = id(y)\n",
        "y = y + x\n",
        "before == id(y)"
      ],
      "execution_count": null,
      "outputs": [
        {
          "output_type": "execute_result",
          "data": {
            "text/plain": [
              "False"
            ]
          },
          "metadata": {
            "tags": []
          },
          "execution_count": 7
        }
      ]
    },
    {
      "cell_type": "code",
      "metadata": {
        "colab": {
          "base_uri": "https://localhost:8080/"
        },
        "id": "NVfUqaEECd2o",
        "outputId": "589e40be-1091-42f5-e8a7-5c13f74dcc92"
      },
      "source": [
        "z = np.zeros_like(y)\n",
        "print(id(z))\n",
        "z[:] = x + y\n",
        "print(id(z)) "
      ],
      "execution_count": null,
      "outputs": [
        {
          "output_type": "stream",
          "text": [
            "140005275363440\n",
            "140005275363440\n"
          ],
          "name": "stdout"
        }
      ]
    },
    {
      "cell_type": "code",
      "metadata": {
        "colab": {
          "base_uri": "https://localhost:8080/"
        },
        "id": "revB5AiAEsji",
        "outputId": "2c2fd6fa-db65-424e-e163-bacb21f8b09a"
      },
      "source": [
        "before1 = id(x)\n",
        "x -= y\n",
        "before1 == id(x)"
      ],
      "execution_count": null,
      "outputs": [
        {
          "output_type": "execute_result",
          "data": {
            "text/plain": [
              "True"
            ]
          },
          "metadata": {
            "tags": []
          },
          "execution_count": 10
        }
      ]
    },
    {
      "cell_type": "code",
      "metadata": {
        "colab": {
          "base_uri": "https://localhost:8080/"
        },
        "id": "8Wv19xGFIk15",
        "outputId": "c96bd4f1-15ca-4a9e-e5cd-52173503e108"
      },
      "source": [
        "a = np.array([3.5,4.5,5.9,6.7])\n",
        "a,a[0].item(),float(a[1]),int(a[2])"
      ],
      "execution_count": null,
      "outputs": [
        {
          "output_type": "execute_result",
          "data": {
            "text/plain": [
              "(array([3.5, 4.5, 5.9, 6.7]), 3.5, 4.5, 5)"
            ]
          },
          "metadata": {
            "tags": []
          },
          "execution_count": 20
        }
      ]
    },
    {
      "cell_type": "code",
      "metadata": {
        "colab": {
          "base_uri": "https://localhost:8080/"
        },
        "id": "mcEvt2pPLKJS",
        "outputId": "183d5c2d-c427-4526-ff27-083b322b6212"
      },
      "source": [
        "a = np.array([3.5])\n",
        "a, a.item(), float(a), int(a)"
      ],
      "execution_count": null,
      "outputs": [
        {
          "output_type": "execute_result",
          "data": {
            "text/plain": [
              "(array([3.5]), 3.5, 3.5, 3)"
            ]
          },
          "metadata": {
            "tags": []
          },
          "execution_count": 21
        }
      ]
    },
    {
      "cell_type": "code",
      "metadata": {
        "colab": {
          "base_uri": "https://localhost:8080/"
        },
        "id": "yjd9Nf_6MKHZ",
        "outputId": "797ae5dd-515d-4159-8a66-6e7a5872fa87"
      },
      "source": [
        "a = np.array([5,6,7]).reshape(3,1)\n",
        "b = np.array([3,4])\n",
        "print(a)\n",
        "print(b)\n"
      ],
      "execution_count": null,
      "outputs": [
        {
          "output_type": "stream",
          "text": [
            "[[5.]\n",
            " [6.]\n",
            " [7.]]\n",
            "[3. 4.]\n"
          ],
          "name": "stdout"
        }
      ]
    },
    {
      "cell_type": "code",
      "metadata": {
        "colab": {
          "base_uri": "https://localhost:8080/"
        },
        "id": "qq8rG8_sA_CC",
        "outputId": "9c93011e-9d21-45c1-99ce-10ac34032cd5"
      },
      "source": [
        "a = np.array([[5,5],[6,6],[7,7]])\n",
        "b = np.array([[3,4],[3,4],[3,4]])\n",
        "print(a)\n",
        "print(b)"
      ],
      "execution_count": null,
      "outputs": [
        {
          "output_type": "stream",
          "text": [
            "[[5. 5.]\n",
            " [6. 6.]\n",
            " [7. 7.]]\n",
            "[[3. 4.]\n",
            " [3. 4.]\n",
            " [3. 4.]]\n"
          ],
          "name": "stdout"
        }
      ]
    },
    {
      "cell_type": "code",
      "metadata": {
        "id": "1TdXHmHyA-jE"
      },
      "source": [
        "print(a+b)\n",
        "print(a-b)\n",
        "print(a/b)\n",
        "print(a*b)\n",
        "print(a**b) "
      ],
      "execution_count": null,
      "outputs": []
    },
    {
      "cell_type": "code",
      "metadata": {
        "colab": {
          "base_uri": "https://localhost:8080/"
        },
        "id": "0etK50OzJWrK",
        "outputId": "da854e76-d2b4-45c1-9a55-7a2ee967527c"
      },
      "source": [
        "array1 = x.asnumpy()\n",
        "array2 = np.array(array1)\n",
        "type(array1),type(array2)"
      ],
      "execution_count": null,
      "outputs": [
        {
          "output_type": "execute_result",
          "data": {
            "text/plain": [
              "(numpy.ndarray, mxnet.numpy.ndarray)"
            ]
          },
          "metadata": {
            "tags": []
          },
          "execution_count": 24
        }
      ]
    },
    {
      "cell_type": "code",
      "metadata": {
        "colab": {
          "base_uri": "https://localhost:8080/"
        },
        "id": "EQ_x1cCfKiFr",
        "outputId": "78f7095b-19ca-48b1-d846-ed98760a506f"
      },
      "source": [
        "test = np.array([3.5])\n",
        "test.item(),float(test),int(test)"
      ],
      "execution_count": null,
      "outputs": [
        {
          "output_type": "execute_result",
          "data": {
            "text/plain": [
              "(3.5, 3.5, 3)"
            ]
          },
          "metadata": {
            "tags": []
          },
          "execution_count": 28
        }
      ]
    },
    {
      "cell_type": "code",
      "metadata": {
        "colab": {
          "base_uri": "https://localhost:8080/"
        },
        "id": "0R04FtnIMBBy",
        "outputId": "3a46c348-c4d1-44f2-989b-ddf37cf83f19"
      },
      "source": [
        "test1 = np.arange(12).reshape(2,2,3)\n",
        "print(test1)\n",
        "test1[1][0][1].item()"
      ],
      "execution_count": null,
      "outputs": [
        {
          "output_type": "stream",
          "text": [
            "[[[ 0.  1.  2.]\n",
            "  [ 3.  4.  5.]]\n",
            "\n",
            " [[ 6.  7.  8.]\n",
            "  [ 9. 10. 11.]]]\n"
          ],
          "name": "stdout"
        },
        {
          "output_type": "execute_result",
          "data": {
            "text/plain": [
              "7.0"
            ]
          },
          "metadata": {
            "tags": []
          },
          "execution_count": 37
        }
      ]
    }
  ]
}