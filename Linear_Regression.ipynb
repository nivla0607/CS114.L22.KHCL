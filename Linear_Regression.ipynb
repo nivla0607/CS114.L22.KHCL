{
  "nbformat": 4,
  "nbformat_minor": 0,
  "metadata": {
    "colab": {
      "name": "Linear Regression",
      "provenance": [],
      "toc_visible": true,
      "authorship_tag": "ABX9TyN7XHEGqFvab5/yYz88oZ53",
      "include_colab_link": true
    },
    "kernelspec": {
      "name": "python3",
      "display_name": "Python 3"
    },
    "language_info": {
      "name": "python"
    }
  },
  "cells": [
    {
      "cell_type": "markdown",
      "metadata": {
        "id": "view-in-github",
        "colab_type": "text"
      },
      "source": [
        "<a href=\"https://colab.research.google.com/github/nivla0607/CS114.L22.KHCL/blob/main/Linear_Regression.ipynb\" target=\"_parent\"><img src=\"https://colab.research.google.com/assets/colab-badge.svg\" alt=\"Open In Colab\"/></a>"
      ]
    },
    {
      "cell_type": "markdown",
      "metadata": {
        "id": "i829eE9f3RPO"
      },
      "source": [
        "Thành viên nhóm\n",
        "\n",
        "\n",
        "*   Nguyễn Phạm Vĩnh Nguyên - 19520186\n",
        "*   Phạm Minh Khôi - 19520658\n",
        "*   Phạm Quốc Đạt - 19521349\n",
        "\n",
        "\n",
        "\n",
        "\n"
      ]
    },
    {
      "cell_type": "markdown",
      "metadata": {
        "id": "jPBFp87srM-g"
      },
      "source": [
        "## Reference\n",
        "\n",
        "\n",
        "*   https://matplotlib.org/stable/contents.html\n",
        "*   https://scikit-learn.org/stable/modules/generated/sklearn.linear_model.LinearRegression.html\n",
        "\n",
        "*   https://github.com/karthickai/Linear-Regression\n",
        "*   https://numpy.org/doc/stable/reference/\n",
        "\n",
        "\n",
        "\n",
        "\n"
      ]
    },
    {
      "cell_type": "markdown",
      "metadata": {
        "id": "2KlffcHx2wfK"
      },
      "source": [
        "## Data\n",
        "\n",
        "> Train data: https://cs.uit.edu.vn/data2.txt\n",
        "\n",
        "\n",
        "> Test data: https://cs.uit.edu.vn/data3.txt\n",
        "\n",
        "\n",
        "\n"
      ]
    },
    {
      "cell_type": "markdown",
      "metadata": {
        "id": "go74ZR9ZmmY0"
      },
      "source": [
        "## Import Data\n"
      ]
    },
    {
      "cell_type": "code",
      "metadata": {
        "id": "KHG45LTNlb89"
      },
      "source": [
        "import pandas as pd\n",
        "import numpy as np\n",
        "import matplotlib.pyplot as plt\n",
        "%matplotlib inline"
      ],
      "execution_count": null,
      "outputs": []
    },
    {
      "cell_type": "code",
      "metadata": {
        "id": "BJYF6a5knhlE"
      },
      "source": [
        "train_data  = pd.read_csv('https://cs.uit.edu.vn/data2.txt', header=None, usecols= [0,1], names= ['Input', 'Running time'])\n",
        "test_data = pd.read_csv('https://cs.uit.edu.vn/data3.txt', header = None, usecols= [0,1], names = ['Input', 'Running time']) "
      ],
      "execution_count": null,
      "outputs": []
    },
    {
      "cell_type": "code",
      "metadata": {
        "colab": {
          "base_uri": "https://localhost:8080/"
        },
        "id": "bfoKy2CDqioz",
        "outputId": "af255a78-4ce6-46f4-bd4f-66f1b3ab4c6d"
      },
      "source": [
        "print(train_data)"
      ],
      "execution_count": null,
      "outputs": [
        {
          "output_type": "stream",
          "text": [
            "         Input  Running time\n",
            "0      6083695      0.521842\n",
            "1      1954367      0.152648\n",
            "2      3734185      0.298548\n",
            "3      5839301      0.460480\n",
            "4      6343427      0.527977\n",
            "...        ...           ...\n",
            "71110  4472112      0.350379\n",
            "71111  5471895      0.429955\n",
            "71112  9837364      0.801394\n",
            "71113  9466593      0.776407\n",
            "71114  4080801      0.314468\n",
            "\n",
            "[71115 rows x 2 columns]\n"
          ],
          "name": "stdout"
        }
      ]
    },
    {
      "cell_type": "code",
      "metadata": {
        "colab": {
          "base_uri": "https://localhost:8080/"
        },
        "id": "DoyQ_JeRE5Fq",
        "outputId": "691fb1f9-7b96-4a6d-c2c8-93ba5aaaa1e6"
      },
      "source": [
        "print(test_data)"
      ],
      "execution_count": null,
      "outputs": [
        {
          "output_type": "stream",
          "text": [
            "          Input  Running time\n",
            "0      37837612       4.12166\n",
            "1      37395246       3.92089\n",
            "2      36610827       3.21540\n",
            "3      29555651       2.54506\n",
            "4      25928216       2.21831\n",
            "...         ...           ...\n",
            "10585  26872494       2.35117\n",
            "10586  20753811       1.79155\n",
            "10587  33520323       2.90918\n",
            "10588  21243264       1.80292\n",
            "10589  21380484       1.82795\n",
            "\n",
            "[10590 rows x 2 columns]\n"
          ],
          "name": "stdout"
        }
      ]
    },
    {
      "cell_type": "markdown",
      "metadata": {
        "id": "j5EEHdKAqyAR"
      },
      "source": [
        ""
      ]
    },
    {
      "cell_type": "markdown",
      "metadata": {
        "id": "5cyreGPEoSsF"
      },
      "source": [
        "## Data Visualization"
      ]
    },
    {
      "cell_type": "code",
      "metadata": {
        "colab": {
          "base_uri": "https://localhost:8080/",
          "height": 298
        },
        "id": "dermYdnS7A8A",
        "outputId": "3ad4b6f0-010c-4c9a-8dfa-1192e2381c70"
      },
      "source": [
        "plt.scatter(train_data['Input'], train_data['Running time'])\n",
        "plt.xlabel('Input size')\n",
        "plt.ylabel('Running time')"
      ],
      "execution_count": null,
      "outputs": [
        {
          "output_type": "execute_result",
          "data": {
            "text/plain": [
              "Text(0, 0.5, 'Running time')"
            ]
          },
          "metadata": {
            "tags": []
          },
          "execution_count": 5
        },
        {
          "output_type": "display_data",
          "data": {
            "image/png": "[encoded data removed]",
            "text/plain": [
              "<Figure size 432x288 with 1 Axes>"
            ]
          },
          "metadata": {
            "tags": [],
            "needs_background": "light"
          }
        }
      ]
    },
    {
      "cell_type": "code",
      "metadata": {
        "colab": {
          "base_uri": "https://localhost:8080/",
          "height": 298
        },
        "id": "nKXlYFWhFHxD",
        "outputId": "3b7540db-e65d-4c3e-d333-d1b2dc72ea75"
      },
      "source": [
        "plt.scatter(test_data['Input'], test_data['Running time'])\n",
        "plt.xlabel('Input size')\n",
        "plt.ylabel('Running time')"
      ],
      "execution_count": null,
      "outputs": [
        {
          "output_type": "execute_result",
          "data": {
            "text/plain": [
              "Text(0, 0.5, 'Running time')"
            ]
          },
          "metadata": {
            "tags": []
          },
          "execution_count": 6
        },
        {
          "output_type": "display_data",
          "data": {
            "image/png": "[encoded data removed]",
            "text/plain": [
              "<Figure size 432x288 with 1 Axes>"
            ]
          },
          "metadata": {
            "tags": [],
            "needs_background": "light"
          }
        }
      ]
    },
    {
      "cell_type": "markdown",
      "metadata": {
        "id": "mHKRYB7g8ItX"
      },
      "source": [
        "## Train Model"
      ]
    },
    {
      "cell_type": "code",
      "metadata": {
        "id": "dYzKiMT5xo6p"
      },
      "source": [
        "from sklearn.model_selection import train_test_split\n",
        "from sklearn.linear_model import LinearRegression\n",
        "from sklearn.metrics import mean_squared_error\n",
        "import math"
      ],
      "execution_count": null,
      "outputs": []
    },
    {
      "cell_type": "code",
      "metadata": {
        "id": "ZcLWGnIV07AH"
      },
      "source": [
        "x_train, y_train = np.array(train_data['Input']).reshape(-1,1), np.array(train_data['Running time']).reshape(-1,1)\n",
        "x_test, y_test = np.array(test_data['Input']).reshape(-1,1), np.array(test_data['Running time']).reshape(-1,1)\n",
        "model = LinearRegression()"
      ],
      "execution_count": null,
      "outputs": []
    },
    {
      "cell_type": "code",
      "metadata": {
        "id": "m5HiPUmk-6_M"
      },
      "source": [
        "def dimension_increase(x_train):\n",
        "  X = x_train\n",
        "  X = np.hstack((X,np.log2(x_train)))\n",
        "  X = np.hstack((X,x_train*np.log2(x_train)))\n",
        "  X = np.hstack((X,x_train**2))\n",
        "  return X"
      ],
      "execution_count": null,
      "outputs": []
    },
    {
      "cell_type": "markdown",
      "metadata": {
        "id": "1CWFkeObf3ey"
      },
      "source": [
        "### Linear Regression 2D Model"
      ]
    },
    {
      "cell_type": "code",
      "metadata": {
        "colab": {
          "base_uri": "https://localhost:8080/"
        },
        "id": "hGJVZdoCf9Im",
        "outputId": "e4d44245-0630-4930-d9bf-5c0e50ea4f48"
      },
      "source": [
        "lr = LinearRegression()\n",
        "lr.fit(x_train, y_train)"
      ],
      "execution_count": null,
      "outputs": [
        {
          "output_type": "execute_result",
          "data": {
            "text/plain": [
              "LinearRegression(copy_X=True, fit_intercept=True, n_jobs=None, normalize=False)"
            ]
          },
          "metadata": {
            "tags": []
          },
          "execution_count": 77
        }
      ]
    },
    {
      "cell_type": "markdown",
      "metadata": {
        "id": "m6_zS6l5jt8t"
      },
      "source": [
        ""
      ]
    },
    {
      "cell_type": "code",
      "metadata": {
        "colab": {
          "base_uri": "https://localhost:8080/",
          "height": 297
        },
        "id": "9a5zMlWagQgw",
        "outputId": "51f0f0f2-d200-468b-b18c-75147d2eb24d"
      },
      "source": [
        "plt.plot(x_train, y_train, 'bo')\n",
        "plt.plot(x_train, lr.predict(x_train), 'r-')"
      ],
      "execution_count": null,
      "outputs": [
        {
          "output_type": "execute_result",
          "data": {
            "text/plain": [
              "[<matplotlib.lines.Line2D at 0x7f671e8c9a10>]"
            ]
          },
          "metadata": {
            "tags": []
          },
          "execution_count": 78
        },
        {
          "output_type": "display_data",
          "data": {
            "image/png": "[encoded data removed]",
            "text/plain": [
              "<Figure size 432x288 with 1 Axes>"
            ]
          },
          "metadata": {
            "tags": [],
            "needs_background": "light"
          }
        }
      ]
    },
    {
      "cell_type": "code",
      "metadata": {
        "colab": {
          "base_uri": "https://localhost:8080/",
          "height": 297
        },
        "id": "UD-hvV-UhHhV",
        "outputId": "f753b8ae-f180-494f-a911-0c402a516898"
      },
      "source": [
        "plt.plot(x_test, y_test, 'bo')\n",
        "plt.plot(x_test, lr.predict(x_test), 'r-')"
      ],
      "execution_count": null,
      "outputs": [
        {
          "output_type": "execute_result",
          "data": {
            "text/plain": [
              "[<matplotlib.lines.Line2D at 0x7f671e8b3a90>]"
            ]
          },
          "metadata": {
            "tags": []
          },
          "execution_count": 79
        },
        {
          "output_type": "display_data",
          "data": {
            "image/png": "[encoded data removed]",
            "text/plain": [
              "<Figure size 432x288 with 1 Axes>"
            ]
          },
          "metadata": {
            "tags": [],
            "needs_background": "light"
          }
        }
      ]
    },
    {
      "cell_type": "code",
      "metadata": {
        "colab": {
          "base_uri": "https://localhost:8080/"
        },
        "id": "4Bdfa11DhB6N",
        "outputId": "44e1ade4-e5f5-43e9-9119-7089bc4d810e"
      },
      "source": [
        "MSE_lr = mean_squared_error(y_test, lr.predict(x_test))\n",
        "print('MSE 2D model:',MSE_lr)\n",
        "avg = np.average(y_test)\n",
        "print('Average y_test:', avg)\n",
        "print('Error:(%)', (math.sqrt(MSE_lr)*100)/avg)"
      ],
      "execution_count": null,
      "outputs": [
        {
          "output_type": "stream",
          "text": [
            "MSE 2D model: 0.020664949397549082\n",
            "Average y_test: 2.642811968838527\n",
            "Error:(%) 5.439398887357004\n"
          ],
          "name": "stdout"
        }
      ]
    },
    {
      "cell_type": "markdown",
      "metadata": {
        "id": "1CLgfodKidr0"
      },
      "source": [
        "### Multivariate High-dimension Regression Model"
      ]
    },
    {
      "cell_type": "code",
      "metadata": {
        "colab": {
          "base_uri": "https://localhost:8080/"
        },
        "id": "lZdfe3yK9zqt",
        "outputId": "752326d5-2fd6-4df7-fabe-061603757b57"
      },
      "source": [
        "X_train = dimension_increase(x_train)\n",
        "print(X_train)"
      ],
      "execution_count": null,
      "outputs": [
        {
          "output_type": "stream",
          "text": [
            "[[6.08369500e+06 2.25365164e+01 1.37105292e+08 3.70113449e+13]\n",
            " [1.95436700e+06 2.08982700e+01 4.08428892e+07 3.81955037e+12]\n",
            " [3.73418500e+06 2.18323620e+01 8.15260786e+07 1.39441376e+13]\n",
            " ...\n",
            " [9.83736400e+06 2.32298404e+01 2.28520395e+08 9.67737305e+13]\n",
            " [9.46659300e+06 2.31744139e+01 2.19382744e+08 8.96163830e+13]\n",
            " [4.08080100e+06 2.19604209e+01 8.96161077e+07 1.66529368e+13]]\n"
          ],
          "name": "stdout"
        }
      ]
    },
    {
      "cell_type": "code",
      "metadata": {
        "colab": {
          "base_uri": "https://localhost:8080/"
        },
        "id": "lYtgIOvwFl0z",
        "outputId": "daa03ea3-df2f-4abd-ba8f-50557044b5aa"
      },
      "source": [
        "X_test = dimension_increase(x_test)\n",
        "print(X_test)"
      ],
      "execution_count": null,
      "outputs": [
        {
          "output_type": "stream",
          "text": [
            "[[3.78376120e+07 2.51733177e+01 9.52498228e+08 1.43168488e+15]\n",
            " [3.73952460e+07 2.51563515e+01 9.40727954e+08 1.39840442e+15]\n",
            " [3.66108270e+07 2.51257670e+01 9.19875110e+08 1.34035265e+15]\n",
            " ...\n",
            " [3.35203230e+07 2.49985327e+01 8.37958891e+08 1.12361205e+15]\n",
            " [2.12432640e+07 2.43405021e+01 5.17071712e+08 4.51276265e+14]\n",
            " [2.13804840e+07 2.43497912e+01 5.20610321e+08 4.57125096e+14]]\n"
          ],
          "name": "stdout"
        }
      ]
    },
    {
      "cell_type": "code",
      "metadata": {
        "colab": {
          "base_uri": "https://localhost:8080/"
        },
        "id": "BKxbrrID0zjI",
        "outputId": "f63573da-42eb-463f-cb22-48f7207e05fc"
      },
      "source": [
        "model.fit(X_train, y_train)"
      ],
      "execution_count": null,
      "outputs": [
        {
          "output_type": "execute_result",
          "data": {
            "text/plain": [
              "LinearRegression(copy_X=True, fit_intercept=True, n_jobs=None, normalize=False)"
            ]
          },
          "metadata": {
            "tags": []
          },
          "execution_count": 91
        }
      ]
    },
    {
      "cell_type": "code",
      "metadata": {
        "colab": {
          "base_uri": "https://localhost:8080/",
          "height": 369
        },
        "id": "AnrgrFjroNQD",
        "outputId": "61468ffc-792b-48ad-8940-c8244b1cb2df"
      },
      "source": [
        "plt.plot(X_test, 'bo' , model.predict(X_test), 'r-')"
      ],
      "execution_count": null,
      "outputs": [
        {
          "output_type": "execute_result",
          "data": {
            "text/plain": [
              "[<matplotlib.lines.Line2D at 0x7f671e7b25d0>,\n",
              " <matplotlib.lines.Line2D at 0x7f671e7b2810>,\n",
              " <matplotlib.lines.Line2D at 0x7f671e7b29d0>,\n",
              " <matplotlib.lines.Line2D at 0x7f671e7b2b90>,\n",
              " <matplotlib.lines.Line2D at 0x7f671e7b2d50>]"
            ]
          },
          "metadata": {
            "tags": []
          },
          "execution_count": 92
        },
        {
          "output_type": "display_data",
          "data": {
            "image/png": "[encoded data removed]",
            "text/plain": [
              "<Figure size 432x288 with 1 Axes>"
            ]
          },
          "metadata": {
            "tags": [],
            "needs_background": "light"
          }
        }
      ]
    },
    {
      "cell_type": "code",
      "metadata": {
        "colab": {
          "base_uri": "https://localhost:8080/"
        },
        "id": "_H_mfcYbodHi",
        "outputId": "ea161588-68ca-47a8-a867-4017ffac8ce3"
      },
      "source": [
        "MSE = mean_squared_error(y_test, model.predict(X_test))\n",
        "print('MSE:',MSE)\n",
        "avg_multi = np.average(y_test)\n",
        "print('Average y_test:', avg_multi)\n",
        "print('Error(%):',(math.sqrt(MSE)*100)/avg)"
      ],
      "execution_count": null,
      "outputs": [
        {
          "output_type": "stream",
          "text": [
            "MSE: 0.004181175138868819\n",
            "Average y_test: 2.642811968838527\n",
            "Error(%): 2.4467123534333655\n"
          ],
          "name": "stdout"
        }
      ]
    },
    {
      "cell_type": "markdown",
      "metadata": {
        "id": "3pP_T1ySxLY4"
      },
      "source": [
        "## Nhận xét\n",
        "\n",
        "\n",
        ">- Nếu sử dụng mô hình Linear Regression 2 biến thông thường thì độ sai số của mô hình khoảng 5.44% bởi vì khi xét độ phức tạp của thuật toán thì ta có rất nhiều độ phức tạp khác như như O(log(n)), O(sqrt(n)), O(n), O(nlog(n)), O(n^2), ... còn mô hình đơn giản ban đầu chỉ bao quát được ở độ phức tạp O(n).\n",
        "\n",
        ">- Khi thay đổi thành mô hình Multivariate Regression thì ta có thể bao quát được nhiều độ phức tạp hơn như O(log(n)), O(nlog(n)), O(n^2). Vì vậy, chúng em giảm được độ sai số còn khoảng 2.45%.\n",
        "\n",
        ">- Tuy nhiên, chúng em có thể thấy được việc xử lý dữ liệu trước khi train rất quan trọng vì nó có thể làm tăng độ chính xác cho mô hình nên việc áp dụng các phương pháp tăng cường dữ liệu cũng như việc quan sát và nhận xét dữ liệu để đưa ra được một hypothesis phù hợp với dữ liệu chính là mấu chốt để làm cho mô hình hoạt động tốt hơn."
      ]
    }
  ]
}
