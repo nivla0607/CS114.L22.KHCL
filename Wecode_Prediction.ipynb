{
  "nbformat": 4,
  "nbformat_minor": 0,
  "metadata": {
    "colab": {
      "name": "Wecode Prediction.ipynb",
      "provenance": [],
      "collapsed_sections": [],
      "toc_visible": true,
      "include_colab_link": true
    },
    "kernelspec": {
      "name": "python3",
      "display_name": "Python 3"
    },
    "language_info": {
      "name": "python"
    }
  },
  "cells": [
    {
      "cell_type": "markdown",
      "metadata": {
        "id": "view-in-github",
        "colab_type": "text"
      },
      "source": [
        "<a href=\"https://colab.research.google.com/github/nivla0607/CS114.L22.KHCL/blob/main/Wecode_Prediction.ipynb\" target=\"_parent\"><img src=\"https://colab.research.google.com/assets/colab-badge.svg\" alt=\"Open In Colab\"/></a>"
      ]
    },
    {
      "cell_type": "markdown",
      "metadata": {
        "id": "Pxp2-YMNibHv"
      },
      "source": [
        "<h1 align=\"center\"><b>BÀI TẬP COLAB SỐ 03 </b></h1>\n",
        "<h1 align=\"center\"><b>DATA DISCOVERY </b></h1>"
      ]
    },
    {
      "cell_type": "markdown",
      "metadata": {
        "id": "scnmZ_lwioff"
      },
      "source": [
        "Thành viên nhóm\n",
        "\n",
        "\n",
        "*   Nguyễn Phạm Vĩnh Nguyên - 19520186\n",
        "*   Phạm Minh Khôi - 19520658\n",
        "*   Phạm Quốc Đạt - 19521349"
      ]
    },
    {
      "cell_type": "markdown",
      "metadata": {
        "id": "Ze_SW3kV2e3H"
      },
      "source": [
        "# **Import Libraries**\n"
      ]
    },
    {
      "cell_type": "code",
      "metadata": {
        "id": "QH9bgvibzhNk"
      },
      "source": [
        "import pandas as pd \n",
        "import os\n",
        "import matplotlib.pyplot as plt\n",
        "import numpy as np\n",
        "import seaborn as sns"
      ],
      "execution_count": null,
      "outputs": []
    },
    {
      "cell_type": "markdown",
      "metadata": {
        "id": "NuyZX2ob1sx5"
      },
      "source": [
        "# **Read data**\n"
      ]
    },
    {
      "cell_type": "code",
      "metadata": {
        "colab": {
          "base_uri": "https://localhost:8080/"
        },
        "id": "UU2OdihdujCq",
        "outputId": "4a521662-e4d8-4b94-b632-b436086c70d6"
      },
      "source": [
        "from google.colab import drive\n",
        "\n",
        "drive.mount('/content/drive')\n",
        "with open('/content/drive/MyDrive/Wecode/wecode.csv', 'r') as f:\n",
        "  dataTrain = pd.read_csv(f)\n",
        "  f.close()\n",
        "with open('/content/drive/MyDrive/Wecode/score_training.csv','r') as f:\n",
        "  resultTrain = pd.read_csv(f)\n",
        "  f.close()"
      ],
      "execution_count": null,
      "outputs": [
        {
          "output_type": "stream",
          "text": [
            "Mounted at /content/drive\n"
          ],
          "name": "stdout"
        }
      ]
    },
    {
      "cell_type": "code",
      "metadata": {
        "id": "qPSid5Yn3UK_",
        "colab": {
          "base_uri": "https://localhost:8080/",
          "height": 306
        },
        "outputId": "479cddd7-6fb7-48c2-f4ac-b6d064d9aae2"
      },
      "source": [
        "dataTrain.head()"
      ],
      "execution_count": null,
      "outputs": [
        {
          "output_type": "execute_result",
          "data": {
            "text/html": [
              "<div>\n",
              "<style scoped>\n",
              "    .dataframe tbody tr th:only-of-type {\n",
              "        vertical-align: middle;\n",
              "    }\n",
              "\n",
              "    .dataframe tbody tr th {\n",
              "        vertical-align: top;\n",
              "    }\n",
              "\n",
              "    .dataframe thead th {\n",
              "        text-align: right;\n",
              "    }\n",
              "</style>\n",
              "<table border=\"1\" class=\"dataframe\">\n",
              "  <thead>\n",
              "    <tr style=\"text-align: right;\">\n",
              "      <th></th>\n",
              "      <th>id</th>\n",
              "      <th>assignment_id</th>\n",
              "      <th>problem_id</th>\n",
              "      <th>user_id</th>\n",
              "      <th>is_final</th>\n",
              "      <th>status</th>\n",
              "      <th>pre_score</th>\n",
              "      <th>coefficient</th>\n",
              "      <th>file_name</th>\n",
              "      <th>language_id</th>\n",
              "      <th>created_at</th>\n",
              "      <th>updated_at</th>\n",
              "    </tr>\n",
              "  </thead>\n",
              "  <tbody>\n",
              "    <tr>\n",
              "      <th>0</th>\n",
              "      <td>4</td>\n",
              "      <td>0</td>\n",
              "      <td>3</td>\n",
              "      <td>4</td>\n",
              "      <td>1</td>\n",
              "      <td>SCORE</td>\n",
              "      <td>10000</td>\n",
              "      <td>100</td>\n",
              "      <td>solution-0</td>\n",
              "      <td>2</td>\n",
              "      <td>2020-10-30 10:58:11</td>\n",
              "      <td>2020-10-30 10:58:19</td>\n",
              "    </tr>\n",
              "    <tr>\n",
              "      <th>1</th>\n",
              "      <td>5</td>\n",
              "      <td>0</td>\n",
              "      <td>4</td>\n",
              "      <td>4</td>\n",
              "      <td>1</td>\n",
              "      <td>SCORE</td>\n",
              "      <td>10000</td>\n",
              "      <td>100</td>\n",
              "      <td>solution-1</td>\n",
              "      <td>2</td>\n",
              "      <td>2020-10-30 11:07:09</td>\n",
              "      <td>2020-10-30 11:07:17</td>\n",
              "    </tr>\n",
              "    <tr>\n",
              "      <th>2</th>\n",
              "      <td>6</td>\n",
              "      <td>0</td>\n",
              "      <td>5</td>\n",
              "      <td>4</td>\n",
              "      <td>0</td>\n",
              "      <td>Compilation Error</td>\n",
              "      <td>0</td>\n",
              "      <td>100</td>\n",
              "      <td>solution-2</td>\n",
              "      <td>2</td>\n",
              "      <td>2020-10-30 11:08:01</td>\n",
              "      <td>2020-10-30 11:23:36</td>\n",
              "    </tr>\n",
              "    <tr>\n",
              "      <th>3</th>\n",
              "      <td>7</td>\n",
              "      <td>0</td>\n",
              "      <td>5</td>\n",
              "      <td>4</td>\n",
              "      <td>0</td>\n",
              "      <td>Compilation Error</td>\n",
              "      <td>0</td>\n",
              "      <td>100</td>\n",
              "      <td>solution-3</td>\n",
              "      <td>2</td>\n",
              "      <td>2020-10-30 11:11:41</td>\n",
              "      <td>2020-10-30 11:11:42</td>\n",
              "    </tr>\n",
              "    <tr>\n",
              "      <th>4</th>\n",
              "      <td>8</td>\n",
              "      <td>0</td>\n",
              "      <td>5</td>\n",
              "      <td>4</td>\n",
              "      <td>0</td>\n",
              "      <td>Compilation Error</td>\n",
              "      <td>0</td>\n",
              "      <td>100</td>\n",
              "      <td>solution-4</td>\n",
              "      <td>2</td>\n",
              "      <td>2020-10-30 11:15:06</td>\n",
              "      <td>2020-10-30 11:15:07</td>\n",
              "    </tr>\n",
              "  </tbody>\n",
              "</table>\n",
              "</div>"
            ],
            "text/plain": [
              "   id  assignment_id  ...           created_at           updated_at\n",
              "0   4              0  ...  2020-10-30 10:58:11  2020-10-30 10:58:19\n",
              "1   5              0  ...  2020-10-30 11:07:09  2020-10-30 11:07:17\n",
              "2   6              0  ...  2020-10-30 11:08:01  2020-10-30 11:23:36\n",
              "3   7              0  ...  2020-10-30 11:11:41  2020-10-30 11:11:42\n",
              "4   8              0  ...  2020-10-30 11:15:06  2020-10-30 11:15:07\n",
              "\n",
              "[5 rows x 12 columns]"
            ]
          },
          "metadata": {
            "tags": []
          },
          "execution_count": 4
        }
      ]
    },
    {
      "cell_type": "code",
      "metadata": {
        "colab": {
          "base_uri": "https://localhost:8080/"
        },
        "id": "8nPwOV6VjDvm",
        "outputId": "7ddf8d8d-8f80-447a-e5fb-c209cc3111a7"
      },
      "source": [
        "dataTrain.info()"
      ],
      "execution_count": null,
      "outputs": [
        {
          "output_type": "stream",
          "text": [
            "<class 'pandas.core.frame.DataFrame'>\n",
            "RangeIndex: 264606 entries, 0 to 264605\n",
            "Data columns (total 12 columns):\n",
            " #   Column         Non-Null Count   Dtype \n",
            "---  ------         --------------   ----- \n",
            " 0   id             264606 non-null  int64 \n",
            " 1   assignment_id  264606 non-null  int64 \n",
            " 2   problem_id     264606 non-null  int64 \n",
            " 3   user_id        264606 non-null  int64 \n",
            " 4   is_final       264606 non-null  int64 \n",
            " 5   status         264605 non-null  object\n",
            " 6   pre_score      264606 non-null  int64 \n",
            " 7   coefficient    264606 non-null  object\n",
            " 8   file_name      264606 non-null  object\n",
            " 9   language_id    264606 non-null  int64 \n",
            " 10  created_at     264606 non-null  object\n",
            " 11  updated_at     264606 non-null  object\n",
            "dtypes: int64(7), object(5)\n",
            "memory usage: 24.2+ MB\n"
          ],
          "name": "stdout"
        }
      ]
    },
    {
      "cell_type": "code",
      "metadata": {
        "id": "rhczXukD0Hl_",
        "colab": {
          "base_uri": "https://localhost:8080/",
          "height": 202
        },
        "outputId": "85a9c930-bda7-4692-c2ce-0a71e62a38fa"
      },
      "source": [
        "resultTrain.head()"
      ],
      "execution_count": null,
      "outputs": [
        {
          "output_type": "execute_result",
          "data": {
            "text/html": [
              "<div>\n",
              "<style scoped>\n",
              "    .dataframe tbody tr th:only-of-type {\n",
              "        vertical-align: middle;\n",
              "    }\n",
              "\n",
              "    .dataframe tbody tr th {\n",
              "        vertical-align: top;\n",
              "    }\n",
              "\n",
              "    .dataframe thead th {\n",
              "        text-align: right;\n",
              "    }\n",
              "</style>\n",
              "<table border=\"1\" class=\"dataframe\">\n",
              "  <thead>\n",
              "    <tr style=\"text-align: right;\">\n",
              "      <th></th>\n",
              "      <th>id</th>\n",
              "      <th>QT</th>\n",
              "      <th>GK</th>\n",
              "      <th>TH</th>\n",
              "      <th>CK</th>\n",
              "      <th>TBM</th>\n",
              "      <th>TBTL</th>\n",
              "    </tr>\n",
              "  </thead>\n",
              "  <tbody>\n",
              "    <tr>\n",
              "      <th>0</th>\n",
              "      <td>22</td>\n",
              "      <td>10</td>\n",
              "      <td>9</td>\n",
              "      <td>8.5</td>\n",
              "      <td>8.5</td>\n",
              "      <td>8.8</td>\n",
              "      <td>8.52</td>\n",
              "    </tr>\n",
              "    <tr>\n",
              "      <th>1</th>\n",
              "      <td>24</td>\n",
              "      <td>10</td>\n",
              "      <td>8</td>\n",
              "      <td>10</td>\n",
              "      <td>9.5</td>\n",
              "      <td>9.4</td>\n",
              "      <td>8.41</td>\n",
              "    </tr>\n",
              "    <tr>\n",
              "      <th>2</th>\n",
              "      <td>27</td>\n",
              "      <td>10</td>\n",
              "      <td>10</td>\n",
              "      <td>10</td>\n",
              "      <td>10</td>\n",
              "      <td>10</td>\n",
              "      <td>8.67</td>\n",
              "    </tr>\n",
              "    <tr>\n",
              "      <th>3</th>\n",
              "      <td>28</td>\n",
              "      <td>10</td>\n",
              "      <td>9.5</td>\n",
              "      <td>7.5</td>\n",
              "      <td>9.5</td>\n",
              "      <td>9.2</td>\n",
              "      <td>7.39</td>\n",
              "    </tr>\n",
              "    <tr>\n",
              "      <th>4</th>\n",
              "      <td>29</td>\n",
              "      <td>10</td>\n",
              "      <td>9.5</td>\n",
              "      <td>5</td>\n",
              "      <td>8.5</td>\n",
              "      <td>8.2</td>\n",
              "      <td>8.05</td>\n",
              "    </tr>\n",
              "  </tbody>\n",
              "</table>\n",
              "</div>"
            ],
            "text/plain": [
              "   id  QT   GK   TH   CK  TBM  TBTL\n",
              "0  22  10    9  8.5  8.5  8.8  8.52\n",
              "1  24  10    8   10  9.5  9.4  8.41\n",
              "2  27  10   10   10   10   10  8.67\n",
              "3  28  10  9.5  7.5  9.5  9.2  7.39\n",
              "4  29  10  9.5    5  8.5  8.2  8.05"
            ]
          },
          "metadata": {
            "tags": []
          },
          "execution_count": 7
        }
      ]
    },
    {
      "cell_type": "code",
      "metadata": {
        "colab": {
          "base_uri": "https://localhost:8080/"
        },
        "id": "LLhoutF97AM3",
        "outputId": "cc5d1d4f-e88e-48aa-e602-89c297737382"
      },
      "source": [
        "resultTrain.info()"
      ],
      "execution_count": null,
      "outputs": [
        {
          "output_type": "stream",
          "text": [
            "<class 'pandas.core.frame.DataFrame'>\n",
            "RangeIndex: 975 entries, 0 to 974\n",
            "Data columns (total 7 columns):\n",
            " #   Column  Non-Null Count  Dtype \n",
            "---  ------  --------------  ----- \n",
            " 0   id      975 non-null    int64 \n",
            " 1   QT      973 non-null    object\n",
            " 2   GK      974 non-null    object\n",
            " 3   TH      974 non-null    object\n",
            " 4   CK      974 non-null    object\n",
            " 5   TBM     974 non-null    object\n",
            " 6   TBTL    974 non-null    object\n",
            "dtypes: int64(1), object(6)\n",
            "memory usage: 53.4+ KB\n"
          ],
          "name": "stdout"
        }
      ]
    },
    {
      "cell_type": "markdown",
      "metadata": {
        "id": "mIBx1bvVmZRX"
      },
      "source": [
        "##**Filtering data**"
      ]
    },
    {
      "cell_type": "code",
      "metadata": {
        "id": "TVg42Eo-mZzw"
      },
      "source": [
        "new_dataTrain = dataTrain.drop(columns=['id','created_at','updated_at','language_id'])\n",
        "new_resultTrain = resultTrain.drop(columns=['QT','GK','TH','TBM','TBTL'])"
      ],
      "execution_count": null,
      "outputs": []
    },
    {
      "cell_type": "markdown",
      "metadata": {
        "id": "0YsuMA9ja8gG"
      },
      "source": [
        "##**Data's details**"
      ]
    },
    {
      "cell_type": "code",
      "metadata": {
        "colab": {
          "base_uri": "https://localhost:8080/",
          "height": 294
        },
        "id": "rhykCTAFBxJ_",
        "outputId": "e04c489f-36d6-4824-a177-815bc2bec72c"
      },
      "source": [
        "new_dataTrain.describe()"
      ],
      "execution_count": null,
      "outputs": [
        {
          "output_type": "execute_result",
          "data": {
            "text/html": [
              "<div>\n",
              "<style scoped>\n",
              "    .dataframe tbody tr th:only-of-type {\n",
              "        vertical-align: middle;\n",
              "    }\n",
              "\n",
              "    .dataframe tbody tr th {\n",
              "        vertical-align: top;\n",
              "    }\n",
              "\n",
              "    .dataframe thead th {\n",
              "        text-align: right;\n",
              "    }\n",
              "</style>\n",
              "<table border=\"1\" class=\"dataframe\">\n",
              "  <thead>\n",
              "    <tr style=\"text-align: right;\">\n",
              "      <th></th>\n",
              "      <th>assignment_id</th>\n",
              "      <th>problem_id</th>\n",
              "      <th>user_id</th>\n",
              "      <th>is_final</th>\n",
              "      <th>pre_score</th>\n",
              "    </tr>\n",
              "  </thead>\n",
              "  <tbody>\n",
              "    <tr>\n",
              "      <th>count</th>\n",
              "      <td>264606.000000</td>\n",
              "      <td>264606.000000</td>\n",
              "      <td>264606.000000</td>\n",
              "      <td>264606.000000</td>\n",
              "      <td>264606.000000</td>\n",
              "    </tr>\n",
              "    <tr>\n",
              "      <th>mean</th>\n",
              "      <td>186.732429</td>\n",
              "      <td>257.958074</td>\n",
              "      <td>935.002147</td>\n",
              "      <td>0.387349</td>\n",
              "      <td>5596.454559</td>\n",
              "    </tr>\n",
              "    <tr>\n",
              "      <th>std</th>\n",
              "      <td>109.768713</td>\n",
              "      <td>158.359795</td>\n",
              "      <td>514.246324</td>\n",
              "      <td>0.487146</td>\n",
              "      <td>4393.183730</td>\n",
              "    </tr>\n",
              "    <tr>\n",
              "      <th>min</th>\n",
              "      <td>0.000000</td>\n",
              "      <td>1.000000</td>\n",
              "      <td>1.000000</td>\n",
              "      <td>0.000000</td>\n",
              "      <td>0.000000</td>\n",
              "    </tr>\n",
              "    <tr>\n",
              "      <th>25%</th>\n",
              "      <td>90.000000</td>\n",
              "      <td>123.000000</td>\n",
              "      <td>497.000000</td>\n",
              "      <td>0.000000</td>\n",
              "      <td>0.000000</td>\n",
              "    </tr>\n",
              "    <tr>\n",
              "      <th>50%</th>\n",
              "      <td>178.000000</td>\n",
              "      <td>298.000000</td>\n",
              "      <td>925.000000</td>\n",
              "      <td>0.000000</td>\n",
              "      <td>7000.000000</td>\n",
              "    </tr>\n",
              "    <tr>\n",
              "      <th>75%</th>\n",
              "      <td>286.000000</td>\n",
              "      <td>348.000000</td>\n",
              "      <td>1393.000000</td>\n",
              "      <td>1.000000</td>\n",
              "      <td>10000.000000</td>\n",
              "    </tr>\n",
              "    <tr>\n",
              "      <th>max</th>\n",
              "      <td>384.000000</td>\n",
              "      <td>698.000000</td>\n",
              "      <td>1868.000000</td>\n",
              "      <td>1.000000</td>\n",
              "      <td>10000.000000</td>\n",
              "    </tr>\n",
              "  </tbody>\n",
              "</table>\n",
              "</div>"
            ],
            "text/plain": [
              "       assignment_id     problem_id  ...       is_final      pre_score\n",
              "count  264606.000000  264606.000000  ...  264606.000000  264606.000000\n",
              "mean      186.732429     257.958074  ...       0.387349    5596.454559\n",
              "std       109.768713     158.359795  ...       0.487146    4393.183730\n",
              "min         0.000000       1.000000  ...       0.000000       0.000000\n",
              "25%        90.000000     123.000000  ...       0.000000       0.000000\n",
              "50%       178.000000     298.000000  ...       0.000000    7000.000000\n",
              "75%       286.000000     348.000000  ...       1.000000   10000.000000\n",
              "max       384.000000     698.000000  ...       1.000000   10000.000000\n",
              "\n",
              "[8 rows x 5 columns]"
            ]
          },
          "metadata": {
            "tags": []
          },
          "execution_count": 10
        }
      ]
    },
    {
      "cell_type": "markdown",
      "metadata": {
        "id": "4h2Ll4eAkITn"
      },
      "source": [
        "# Statistic"
      ]
    },
    {
      "cell_type": "code",
      "metadata": {
        "id": "z233na6xrlqP"
      },
      "source": [
        "#Đếm các problem đã hoàn thành \n",
        "def Solved_Problem(data):\n",
        "  if data['is_final'] == 1 and data['pre_score'] == 10000:\n",
        "    return 1\n",
        "  return 0"
      ],
      "execution_count": null,
      "outputs": []
    },
    {
      "cell_type": "code",
      "metadata": {
        "id": "DEhFyjDQs5kO"
      },
      "source": [
        "new_dataTrain['solved_problem'] = new_dataTrain.apply(Solved_Problem,axis=1)"
      ],
      "execution_count": null,
      "outputs": []
    },
    {
      "cell_type": "code",
      "metadata": {
        "colab": {
          "base_uri": "https://localhost:8080/",
          "height": 602
        },
        "id": "B-Ex7BXyeVHK",
        "outputId": "8caac9a1-d67c-4ed5-84d2-2a163d8c8e48"
      },
      "source": [
        "dataTrain.loc[(dataTrain[\"user_id\"] == 6) & (dataTrain[\"pre_score\"] == 10000) & (dataTrain[\"is_final\"] == 1) & (dataTrain[\"coefficient\"] == '100')].reset_index(drop = 1)"
      ],
      "execution_count": null,
      "outputs": [
        {
          "output_type": "execute_result",
          "data": {
            "text/html": [
              "<div>\n",
              "<style scoped>\n",
              "    .dataframe tbody tr th:only-of-type {\n",
              "        vertical-align: middle;\n",
              "    }\n",
              "\n",
              "    .dataframe tbody tr th {\n",
              "        vertical-align: top;\n",
              "    }\n",
              "\n",
              "    .dataframe thead th {\n",
              "        text-align: right;\n",
              "    }\n",
              "</style>\n",
              "<table border=\"1\" class=\"dataframe\">\n",
              "  <thead>\n",
              "    <tr style=\"text-align: right;\">\n",
              "      <th></th>\n",
              "      <th>id</th>\n",
              "      <th>assignment_id</th>\n",
              "      <th>problem_id</th>\n",
              "      <th>user_id</th>\n",
              "      <th>is_final</th>\n",
              "      <th>status</th>\n",
              "      <th>pre_score</th>\n",
              "      <th>coefficient</th>\n",
              "      <th>file_name</th>\n",
              "      <th>language_id</th>\n",
              "      <th>created_at</th>\n",
              "      <th>updated_at</th>\n",
              "    </tr>\n",
              "  </thead>\n",
              "  <tbody>\n",
              "    <tr>\n",
              "      <th>0</th>\n",
              "      <td>3757</td>\n",
              "      <td>23</td>\n",
              "      <td>3</td>\n",
              "      <td>6</td>\n",
              "      <td>1</td>\n",
              "      <td>SCORE</td>\n",
              "      <td>10000</td>\n",
              "      <td>100</td>\n",
              "      <td>solution-2</td>\n",
              "      <td>2</td>\n",
              "      <td>2020-11-05 05:22:48</td>\n",
              "      <td>2020-11-05 05:22:57</td>\n",
              "    </tr>\n",
              "    <tr>\n",
              "      <th>1</th>\n",
              "      <td>13479</td>\n",
              "      <td>0</td>\n",
              "      <td>82</td>\n",
              "      <td>6</td>\n",
              "      <td>1</td>\n",
              "      <td>SCORE</td>\n",
              "      <td>10000</td>\n",
              "      <td>100</td>\n",
              "      <td>solution-1622</td>\n",
              "      <td>2</td>\n",
              "      <td>2020-11-08 14:41:18</td>\n",
              "      <td>2020-11-08 14:41:31</td>\n",
              "    </tr>\n",
              "    <tr>\n",
              "      <th>2</th>\n",
              "      <td>13495</td>\n",
              "      <td>0</td>\n",
              "      <td>83</td>\n",
              "      <td>6</td>\n",
              "      <td>1</td>\n",
              "      <td>SCORE</td>\n",
              "      <td>10000</td>\n",
              "      <td>100</td>\n",
              "      <td>solution-1628</td>\n",
              "      <td>2</td>\n",
              "      <td>2020-11-08 14:46:08</td>\n",
              "      <td>2020-11-08 14:46:24</td>\n",
              "    </tr>\n",
              "    <tr>\n",
              "      <th>3</th>\n",
              "      <td>13500</td>\n",
              "      <td>0</td>\n",
              "      <td>84</td>\n",
              "      <td>6</td>\n",
              "      <td>1</td>\n",
              "      <td>SCORE</td>\n",
              "      <td>10000</td>\n",
              "      <td>100</td>\n",
              "      <td>solution-1629</td>\n",
              "      <td>2</td>\n",
              "      <td>2020-11-08 14:47:02</td>\n",
              "      <td>2020-11-08 14:47:10</td>\n",
              "    </tr>\n",
              "    <tr>\n",
              "      <th>4</th>\n",
              "      <td>13505</td>\n",
              "      <td>0</td>\n",
              "      <td>85</td>\n",
              "      <td>6</td>\n",
              "      <td>1</td>\n",
              "      <td>SCORE</td>\n",
              "      <td>10000</td>\n",
              "      <td>100</td>\n",
              "      <td>solution-1630</td>\n",
              "      <td>2</td>\n",
              "      <td>2020-11-08 14:47:43</td>\n",
              "      <td>2020-11-08 14:47:53</td>\n",
              "    </tr>\n",
              "    <tr>\n",
              "      <th>...</th>\n",
              "      <td>...</td>\n",
              "      <td>...</td>\n",
              "      <td>...</td>\n",
              "      <td>...</td>\n",
              "      <td>...</td>\n",
              "      <td>...</td>\n",
              "      <td>...</td>\n",
              "      <td>...</td>\n",
              "      <td>...</td>\n",
              "      <td>...</td>\n",
              "      <td>...</td>\n",
              "      <td>...</td>\n",
              "    </tr>\n",
              "    <tr>\n",
              "      <th>80</th>\n",
              "      <td>174556</td>\n",
              "      <td>0</td>\n",
              "      <td>362</td>\n",
              "      <td>6</td>\n",
              "      <td>1</td>\n",
              "      <td>SCORE</td>\n",
              "      <td>10000</td>\n",
              "      <td>100</td>\n",
              "      <td>solution-2854</td>\n",
              "      <td>2</td>\n",
              "      <td>2021-01-03 07:16:48</td>\n",
              "      <td>2021-01-03 07:16:59</td>\n",
              "    </tr>\n",
              "    <tr>\n",
              "      <th>81</th>\n",
              "      <td>174563</td>\n",
              "      <td>0</td>\n",
              "      <td>361</td>\n",
              "      <td>6</td>\n",
              "      <td>1</td>\n",
              "      <td>SCORE</td>\n",
              "      <td>10000</td>\n",
              "      <td>100</td>\n",
              "      <td>solution-2855</td>\n",
              "      <td>2</td>\n",
              "      <td>2021-01-03 07:17:49</td>\n",
              "      <td>2021-01-03 07:18:03</td>\n",
              "    </tr>\n",
              "    <tr>\n",
              "      <th>82</th>\n",
              "      <td>174565</td>\n",
              "      <td>0</td>\n",
              "      <td>360</td>\n",
              "      <td>6</td>\n",
              "      <td>1</td>\n",
              "      <td>SCORE</td>\n",
              "      <td>10000</td>\n",
              "      <td>100</td>\n",
              "      <td>solution-2856</td>\n",
              "      <td>2</td>\n",
              "      <td>2021-01-03 07:18:58</td>\n",
              "      <td>2021-01-03 07:19:12</td>\n",
              "    </tr>\n",
              "    <tr>\n",
              "      <th>83</th>\n",
              "      <td>178495</td>\n",
              "      <td>0</td>\n",
              "      <td>538</td>\n",
              "      <td>6</td>\n",
              "      <td>1</td>\n",
              "      <td>SCORE</td>\n",
              "      <td>10000</td>\n",
              "      <td>100</td>\n",
              "      <td>solution-2896</td>\n",
              "      <td>2</td>\n",
              "      <td>2021-01-04 13:52:28</td>\n",
              "      <td>2021-01-04 14:37:17</td>\n",
              "    </tr>\n",
              "    <tr>\n",
              "      <th>84</th>\n",
              "      <td>187016</td>\n",
              "      <td>297</td>\n",
              "      <td>353</td>\n",
              "      <td>6</td>\n",
              "      <td>1</td>\n",
              "      <td>SCORE</td>\n",
              "      <td>10000</td>\n",
              "      <td>100</td>\n",
              "      <td>solution-364</td>\n",
              "      <td>2</td>\n",
              "      <td>2021-01-07 04:36:30</td>\n",
              "      <td>2021-01-07 04:42:05</td>\n",
              "    </tr>\n",
              "  </tbody>\n",
              "</table>\n",
              "<p>85 rows × 12 columns</p>\n",
              "</div>"
            ],
            "text/plain": [
              "        id  assignment_id  ...           created_at           updated_at\n",
              "0     3757             23  ...  2020-11-05 05:22:48  2020-11-05 05:22:57\n",
              "1    13479              0  ...  2020-11-08 14:41:18  2020-11-08 14:41:31\n",
              "2    13495              0  ...  2020-11-08 14:46:08  2020-11-08 14:46:24\n",
              "3    13500              0  ...  2020-11-08 14:47:02  2020-11-08 14:47:10\n",
              "4    13505              0  ...  2020-11-08 14:47:43  2020-11-08 14:47:53\n",
              "..     ...            ...  ...                  ...                  ...\n",
              "80  174556              0  ...  2021-01-03 07:16:48  2021-01-03 07:16:59\n",
              "81  174563              0  ...  2021-01-03 07:17:49  2021-01-03 07:18:03\n",
              "82  174565              0  ...  2021-01-03 07:18:58  2021-01-03 07:19:12\n",
              "83  178495              0  ...  2021-01-04 13:52:28  2021-01-04 14:37:17\n",
              "84  187016            297  ...  2021-01-07 04:36:30  2021-01-07 04:42:05\n",
              "\n",
              "[85 rows x 12 columns]"
            ]
          },
          "metadata": {
            "tags": []
          },
          "execution_count": 13
        }
      ]
    },
    {
      "cell_type": "code",
      "metadata": {
        "colab": {
          "base_uri": "https://localhost:8080/"
        },
        "id": "P_qrnNgAc4iz",
        "outputId": "027232e1-613b-4b9a-dc8a-277c319f0a9c"
      },
      "source": [
        "#Đếm số lượng problem của mỗi assignment\n",
        "assignmentGroupby = dataTrain.groupby(\"assignment_id\")\n",
        "problem_count = assignmentGroupby[\"problem_id\"].nunique()\n",
        "print(problem_count)\n",
        "#Tổng số problem\n",
        "print(problem_count.sum())"
      ],
      "execution_count": null,
      "outputs": [
        {
          "output_type": "stream",
          "text": [
            "assignment_id\n",
            "0      352\n",
            "5        4\n",
            "7       10\n",
            "8        8\n",
            "10       7\n",
            "      ... \n",
            "376     10\n",
            "377      7\n",
            "381      4\n",
            "383     47\n",
            "384      4\n",
            "Name: problem_id, Length: 290, dtype: int64\n",
            "3293\n"
          ],
          "name": "stdout"
        }
      ]
    },
    {
      "cell_type": "code",
      "metadata": {
        "id": "l2WEiJ6P6EY9",
        "colab": {
          "base_uri": "https://localhost:8080/",
          "height": 446
        },
        "outputId": "8cd8aa85-ae0e-40ab-cc92-c3c5409b6afe"
      },
      "source": [
        "# Góm nhóm những người cùng user_id để tính các giá trị cần thiết mới\n",
        "groupByUserID = new_dataTrain.groupby(by='user_id', sort = True)\n",
        "\n",
        "dataTrain_new_header = pd.DataFrame({\n",
        "    # Số assignment đã làm thử \n",
        "    'assignment_tries': groupByUserID['assignment_id'].nunique(),  \n",
        "    # Số problem đã làm thử \n",
        "    'problem_tries': groupByUserID['problem_id'].nunique(),\n",
        "    # Số problem đã hoàn thành \n",
        "    'completed_problem': groupByUserID['solved_problem'].apply(lambda x: (x==1).sum()),\n",
        "    # Số lần submit \n",
        "    'submit_count': groupByUserID['problem_id'].count(),\n",
        "    # Số lần pre_score = 10000 \n",
        "    'total_pre_score': groupByUserID['pre_score'].apply(lambda x: (x==10000).sum()),\n",
        "    # Tổng điểm\n",
        "    'total_score': groupByUserID.apply(lambda x: x[x['is_final'] == 1]['pre_score'].sum()),\n",
        "})\n",
        "# Tỉ lệ problem hoàn thành trên tổng số problem \n",
        "dataTrain_new_header['completed_percentage'] = dataTrain_new_header['completed_problem']/problem_count.sum()\n",
        "dataTrain_new_header\n"
      ],
      "execution_count": null,
      "outputs": [
        {
          "output_type": "execute_result",
          "data": {
            "text/html": [
              "<div>\n",
              "<style scoped>\n",
              "    .dataframe tbody tr th:only-of-type {\n",
              "        vertical-align: middle;\n",
              "    }\n",
              "\n",
              "    .dataframe tbody tr th {\n",
              "        vertical-align: top;\n",
              "    }\n",
              "\n",
              "    .dataframe thead th {\n",
              "        text-align: right;\n",
              "    }\n",
              "</style>\n",
              "<table border=\"1\" class=\"dataframe\">\n",
              "  <thead>\n",
              "    <tr style=\"text-align: right;\">\n",
              "      <th></th>\n",
              "      <th>assignment_tries</th>\n",
              "      <th>problem_tries</th>\n",
              "      <th>completed_problem</th>\n",
              "      <th>submit_count</th>\n",
              "      <th>total_pre_score</th>\n",
              "      <th>total_score</th>\n",
              "      <th>completed_percentage</th>\n",
              "    </tr>\n",
              "    <tr>\n",
              "      <th>user_id</th>\n",
              "      <th></th>\n",
              "      <th></th>\n",
              "      <th></th>\n",
              "      <th></th>\n",
              "      <th></th>\n",
              "      <th></th>\n",
              "      <th></th>\n",
              "    </tr>\n",
              "  </thead>\n",
              "  <tbody>\n",
              "    <tr>\n",
              "      <th>1</th>\n",
              "      <td>1</td>\n",
              "      <td>2</td>\n",
              "      <td>1</td>\n",
              "      <td>2</td>\n",
              "      <td>1</td>\n",
              "      <td>10000</td>\n",
              "      <td>0.000304</td>\n",
              "    </tr>\n",
              "    <tr>\n",
              "      <th>4</th>\n",
              "      <td>1</td>\n",
              "      <td>41</td>\n",
              "      <td>37</td>\n",
              "      <td>54</td>\n",
              "      <td>44</td>\n",
              "      <td>370000</td>\n",
              "      <td>0.011236</td>\n",
              "    </tr>\n",
              "    <tr>\n",
              "      <th>5</th>\n",
              "      <td>4</td>\n",
              "      <td>5</td>\n",
              "      <td>3</td>\n",
              "      <td>6</td>\n",
              "      <td>3</td>\n",
              "      <td>30000</td>\n",
              "      <td>0.000911</td>\n",
              "    </tr>\n",
              "    <tr>\n",
              "      <th>6</th>\n",
              "      <td>4</td>\n",
              "      <td>88</td>\n",
              "      <td>85</td>\n",
              "      <td>130</td>\n",
              "      <td>89</td>\n",
              "      <td>850000</td>\n",
              "      <td>0.025812</td>\n",
              "    </tr>\n",
              "    <tr>\n",
              "      <th>7</th>\n",
              "      <td>1</td>\n",
              "      <td>2</td>\n",
              "      <td>0</td>\n",
              "      <td>5</td>\n",
              "      <td>0</td>\n",
              "      <td>9209</td>\n",
              "      <td>0.000000</td>\n",
              "    </tr>\n",
              "    <tr>\n",
              "      <th>...</th>\n",
              "      <td>...</td>\n",
              "      <td>...</td>\n",
              "      <td>...</td>\n",
              "      <td>...</td>\n",
              "      <td>...</td>\n",
              "      <td>...</td>\n",
              "      <td>...</td>\n",
              "    </tr>\n",
              "    <tr>\n",
              "      <th>1860</th>\n",
              "      <td>10</td>\n",
              "      <td>43</td>\n",
              "      <td>28</td>\n",
              "      <td>76</td>\n",
              "      <td>29</td>\n",
              "      <td>329665</td>\n",
              "      <td>0.008503</td>\n",
              "    </tr>\n",
              "    <tr>\n",
              "      <th>1862</th>\n",
              "      <td>2</td>\n",
              "      <td>6</td>\n",
              "      <td>4</td>\n",
              "      <td>12</td>\n",
              "      <td>4</td>\n",
              "      <td>40000</td>\n",
              "      <td>0.001215</td>\n",
              "    </tr>\n",
              "    <tr>\n",
              "      <th>1864</th>\n",
              "      <td>5</td>\n",
              "      <td>63</td>\n",
              "      <td>28</td>\n",
              "      <td>187</td>\n",
              "      <td>30</td>\n",
              "      <td>439741</td>\n",
              "      <td>0.008503</td>\n",
              "    </tr>\n",
              "    <tr>\n",
              "      <th>1865</th>\n",
              "      <td>3</td>\n",
              "      <td>17</td>\n",
              "      <td>10</td>\n",
              "      <td>99</td>\n",
              "      <td>10</td>\n",
              "      <td>116428</td>\n",
              "      <td>0.003037</td>\n",
              "    </tr>\n",
              "    <tr>\n",
              "      <th>1868</th>\n",
              "      <td>4</td>\n",
              "      <td>20</td>\n",
              "      <td>27</td>\n",
              "      <td>47</td>\n",
              "      <td>38</td>\n",
              "      <td>270000</td>\n",
              "      <td>0.008199</td>\n",
              "    </tr>\n",
              "  </tbody>\n",
              "</table>\n",
              "<p>1159 rows × 7 columns</p>\n",
              "</div>"
            ],
            "text/plain": [
              "         assignment_tries  problem_tries  ...  total_score  completed_percentage\n",
              "user_id                                   ...                                   \n",
              "1                       1              2  ...        10000              0.000304\n",
              "4                       1             41  ...       370000              0.011236\n",
              "5                       4              5  ...        30000              0.000911\n",
              "6                       4             88  ...       850000              0.025812\n",
              "7                       1              2  ...         9209              0.000000\n",
              "...                   ...            ...  ...          ...                   ...\n",
              "1860                   10             43  ...       329665              0.008503\n",
              "1862                    2              6  ...        40000              0.001215\n",
              "1864                    5             63  ...       439741              0.008503\n",
              "1865                    3             17  ...       116428              0.003037\n",
              "1868                    4             20  ...       270000              0.008199\n",
              "\n",
              "[1159 rows x 7 columns]"
            ]
          },
          "metadata": {
            "tags": []
          },
          "execution_count": 16
        }
      ]
    },
    {
      "cell_type": "code",
      "metadata": {
        "colab": {
          "base_uri": "https://localhost:8080/",
          "height": 435
        },
        "id": "37JUAoQ6btrY",
        "outputId": "4a7c27eb-9ffa-48eb-8083-0f5b0f31186d"
      },
      "source": [
        "new_resultTrain.set_index('id',inplace=True)\n",
        "new_resultTrain_CK = pd.concat([dataTrain_new_header,new_resultTrain],axis = 1)\n",
        "new_resultTrain_CK['user_id'] = new_resultTrain_CK.index\n",
        "new_resultTrain_CK"
      ],
      "execution_count": null,
      "outputs": [
        {
          "output_type": "execute_result",
          "data": {
            "text/html": [
              "<div>\n",
              "<style scoped>\n",
              "    .dataframe tbody tr th:only-of-type {\n",
              "        vertical-align: middle;\n",
              "    }\n",
              "\n",
              "    .dataframe tbody tr th {\n",
              "        vertical-align: top;\n",
              "    }\n",
              "\n",
              "    .dataframe thead th {\n",
              "        text-align: right;\n",
              "    }\n",
              "</style>\n",
              "<table border=\"1\" class=\"dataframe\">\n",
              "  <thead>\n",
              "    <tr style=\"text-align: right;\">\n",
              "      <th></th>\n",
              "      <th>assignment_tries</th>\n",
              "      <th>problem_tries</th>\n",
              "      <th>completed_problem</th>\n",
              "      <th>submit_count</th>\n",
              "      <th>total_pre_score</th>\n",
              "      <th>total_score</th>\n",
              "      <th>completed_percentage</th>\n",
              "      <th>CK</th>\n",
              "      <th>user_id</th>\n",
              "    </tr>\n",
              "  </thead>\n",
              "  <tbody>\n",
              "    <tr>\n",
              "      <th>1</th>\n",
              "      <td>1.0</td>\n",
              "      <td>2.0</td>\n",
              "      <td>1.0</td>\n",
              "      <td>2.0</td>\n",
              "      <td>1.0</td>\n",
              "      <td>10000.0</td>\n",
              "      <td>0.000304</td>\n",
              "      <td>NaN</td>\n",
              "      <td>1</td>\n",
              "    </tr>\n",
              "    <tr>\n",
              "      <th>4</th>\n",
              "      <td>1.0</td>\n",
              "      <td>41.0</td>\n",
              "      <td>37.0</td>\n",
              "      <td>54.0</td>\n",
              "      <td>44.0</td>\n",
              "      <td>370000.0</td>\n",
              "      <td>0.011236</td>\n",
              "      <td>NaN</td>\n",
              "      <td>4</td>\n",
              "    </tr>\n",
              "    <tr>\n",
              "      <th>5</th>\n",
              "      <td>4.0</td>\n",
              "      <td>5.0</td>\n",
              "      <td>3.0</td>\n",
              "      <td>6.0</td>\n",
              "      <td>3.0</td>\n",
              "      <td>30000.0</td>\n",
              "      <td>0.000911</td>\n",
              "      <td>NaN</td>\n",
              "      <td>5</td>\n",
              "    </tr>\n",
              "    <tr>\n",
              "      <th>6</th>\n",
              "      <td>4.0</td>\n",
              "      <td>88.0</td>\n",
              "      <td>85.0</td>\n",
              "      <td>130.0</td>\n",
              "      <td>89.0</td>\n",
              "      <td>850000.0</td>\n",
              "      <td>0.025812</td>\n",
              "      <td>NaN</td>\n",
              "      <td>6</td>\n",
              "    </tr>\n",
              "    <tr>\n",
              "      <th>7</th>\n",
              "      <td>1.0</td>\n",
              "      <td>2.0</td>\n",
              "      <td>0.0</td>\n",
              "      <td>5.0</td>\n",
              "      <td>0.0</td>\n",
              "      <td>9209.0</td>\n",
              "      <td>0.000000</td>\n",
              "      <td>NaN</td>\n",
              "      <td>7</td>\n",
              "    </tr>\n",
              "    <tr>\n",
              "      <th>...</th>\n",
              "      <td>...</td>\n",
              "      <td>...</td>\n",
              "      <td>...</td>\n",
              "      <td>...</td>\n",
              "      <td>...</td>\n",
              "      <td>...</td>\n",
              "      <td>...</td>\n",
              "      <td>...</td>\n",
              "      <td>...</td>\n",
              "    </tr>\n",
              "    <tr>\n",
              "      <th>1862</th>\n",
              "      <td>2.0</td>\n",
              "      <td>6.0</td>\n",
              "      <td>4.0</td>\n",
              "      <td>12.0</td>\n",
              "      <td>4.0</td>\n",
              "      <td>40000.0</td>\n",
              "      <td>0.001215</td>\n",
              "      <td>7.5</td>\n",
              "      <td>1862</td>\n",
              "    </tr>\n",
              "    <tr>\n",
              "      <th>1864</th>\n",
              "      <td>5.0</td>\n",
              "      <td>63.0</td>\n",
              "      <td>28.0</td>\n",
              "      <td>187.0</td>\n",
              "      <td>30.0</td>\n",
              "      <td>439741.0</td>\n",
              "      <td>0.008503</td>\n",
              "      <td>NaN</td>\n",
              "      <td>1864</td>\n",
              "    </tr>\n",
              "    <tr>\n",
              "      <th>1865</th>\n",
              "      <td>3.0</td>\n",
              "      <td>17.0</td>\n",
              "      <td>10.0</td>\n",
              "      <td>99.0</td>\n",
              "      <td>10.0</td>\n",
              "      <td>116428.0</td>\n",
              "      <td>0.003037</td>\n",
              "      <td>7.5</td>\n",
              "      <td>1865</td>\n",
              "    </tr>\n",
              "    <tr>\n",
              "      <th>1866</th>\n",
              "      <td>NaN</td>\n",
              "      <td>NaN</td>\n",
              "      <td>NaN</td>\n",
              "      <td>NaN</td>\n",
              "      <td>NaN</td>\n",
              "      <td>NaN</td>\n",
              "      <td>NaN</td>\n",
              "      <td>5</td>\n",
              "      <td>1866</td>\n",
              "    </tr>\n",
              "    <tr>\n",
              "      <th>1868</th>\n",
              "      <td>4.0</td>\n",
              "      <td>20.0</td>\n",
              "      <td>27.0</td>\n",
              "      <td>47.0</td>\n",
              "      <td>38.0</td>\n",
              "      <td>270000.0</td>\n",
              "      <td>0.008199</td>\n",
              "      <td>NaN</td>\n",
              "      <td>1868</td>\n",
              "    </tr>\n",
              "  </tbody>\n",
              "</table>\n",
              "<p>1281 rows × 9 columns</p>\n",
              "</div>"
            ],
            "text/plain": [
              "      assignment_tries  problem_tries  ...   CK  user_id\n",
              "1                  1.0            2.0  ...  NaN        1\n",
              "4                  1.0           41.0  ...  NaN        4\n",
              "5                  4.0            5.0  ...  NaN        5\n",
              "6                  4.0           88.0  ...  NaN        6\n",
              "7                  1.0            2.0  ...  NaN        7\n",
              "...                ...            ...  ...  ...      ...\n",
              "1862               2.0            6.0  ...  7.5     1862\n",
              "1864               5.0           63.0  ...  NaN     1864\n",
              "1865               3.0           17.0  ...  7.5     1865\n",
              "1866               NaN            NaN  ...    5     1866\n",
              "1868               4.0           20.0  ...  NaN     1868\n",
              "\n",
              "[1281 rows x 9 columns]"
            ]
          },
          "metadata": {
            "tags": []
          },
          "execution_count": 25
        }
      ]
    },
    {
      "cell_type": "code",
      "metadata": {
        "colab": {
          "base_uri": "https://localhost:8080/",
          "height": 435
        },
        "id": "fqWWORAcWznO",
        "outputId": "933c0e95-d84f-47c0-de6c-d046f1b6c560"
      },
      "source": [
        "new_data = new_resultTrain_CK.drop(columns=['user_id'])\n",
        "new_data"
      ],
      "execution_count": null,
      "outputs": [
        {
          "output_type": "execute_result",
          "data": {
            "text/html": [
              "<div>\n",
              "<style scoped>\n",
              "    .dataframe tbody tr th:only-of-type {\n",
              "        vertical-align: middle;\n",
              "    }\n",
              "\n",
              "    .dataframe tbody tr th {\n",
              "        vertical-align: top;\n",
              "    }\n",
              "\n",
              "    .dataframe thead th {\n",
              "        text-align: right;\n",
              "    }\n",
              "</style>\n",
              "<table border=\"1\" class=\"dataframe\">\n",
              "  <thead>\n",
              "    <tr style=\"text-align: right;\">\n",
              "      <th></th>\n",
              "      <th>assignment_tries</th>\n",
              "      <th>problem_tries</th>\n",
              "      <th>completed_problem</th>\n",
              "      <th>submit_count</th>\n",
              "      <th>total_pre_score</th>\n",
              "      <th>total_score</th>\n",
              "      <th>completed_percentage</th>\n",
              "      <th>CK</th>\n",
              "    </tr>\n",
              "  </thead>\n",
              "  <tbody>\n",
              "    <tr>\n",
              "      <th>1</th>\n",
              "      <td>1.0</td>\n",
              "      <td>2.0</td>\n",
              "      <td>1.0</td>\n",
              "      <td>2.0</td>\n",
              "      <td>1.0</td>\n",
              "      <td>10000.0</td>\n",
              "      <td>0.000304</td>\n",
              "      <td>NaN</td>\n",
              "    </tr>\n",
              "    <tr>\n",
              "      <th>4</th>\n",
              "      <td>1.0</td>\n",
              "      <td>41.0</td>\n",
              "      <td>37.0</td>\n",
              "      <td>54.0</td>\n",
              "      <td>44.0</td>\n",
              "      <td>370000.0</td>\n",
              "      <td>0.011236</td>\n",
              "      <td>NaN</td>\n",
              "    </tr>\n",
              "    <tr>\n",
              "      <th>5</th>\n",
              "      <td>4.0</td>\n",
              "      <td>5.0</td>\n",
              "      <td>3.0</td>\n",
              "      <td>6.0</td>\n",
              "      <td>3.0</td>\n",
              "      <td>30000.0</td>\n",
              "      <td>0.000911</td>\n",
              "      <td>NaN</td>\n",
              "    </tr>\n",
              "    <tr>\n",
              "      <th>6</th>\n",
              "      <td>4.0</td>\n",
              "      <td>88.0</td>\n",
              "      <td>85.0</td>\n",
              "      <td>130.0</td>\n",
              "      <td>89.0</td>\n",
              "      <td>850000.0</td>\n",
              "      <td>0.025812</td>\n",
              "      <td>NaN</td>\n",
              "    </tr>\n",
              "    <tr>\n",
              "      <th>7</th>\n",
              "      <td>1.0</td>\n",
              "      <td>2.0</td>\n",
              "      <td>0.0</td>\n",
              "      <td>5.0</td>\n",
              "      <td>0.0</td>\n",
              "      <td>9209.0</td>\n",
              "      <td>0.000000</td>\n",
              "      <td>NaN</td>\n",
              "    </tr>\n",
              "    <tr>\n",
              "      <th>...</th>\n",
              "      <td>...</td>\n",
              "      <td>...</td>\n",
              "      <td>...</td>\n",
              "      <td>...</td>\n",
              "      <td>...</td>\n",
              "      <td>...</td>\n",
              "      <td>...</td>\n",
              "      <td>...</td>\n",
              "    </tr>\n",
              "    <tr>\n",
              "      <th>1862</th>\n",
              "      <td>2.0</td>\n",
              "      <td>6.0</td>\n",
              "      <td>4.0</td>\n",
              "      <td>12.0</td>\n",
              "      <td>4.0</td>\n",
              "      <td>40000.0</td>\n",
              "      <td>0.001215</td>\n",
              "      <td>7.5</td>\n",
              "    </tr>\n",
              "    <tr>\n",
              "      <th>1864</th>\n",
              "      <td>5.0</td>\n",
              "      <td>63.0</td>\n",
              "      <td>28.0</td>\n",
              "      <td>187.0</td>\n",
              "      <td>30.0</td>\n",
              "      <td>439741.0</td>\n",
              "      <td>0.008503</td>\n",
              "      <td>NaN</td>\n",
              "    </tr>\n",
              "    <tr>\n",
              "      <th>1865</th>\n",
              "      <td>3.0</td>\n",
              "      <td>17.0</td>\n",
              "      <td>10.0</td>\n",
              "      <td>99.0</td>\n",
              "      <td>10.0</td>\n",
              "      <td>116428.0</td>\n",
              "      <td>0.003037</td>\n",
              "      <td>7.5</td>\n",
              "    </tr>\n",
              "    <tr>\n",
              "      <th>1866</th>\n",
              "      <td>NaN</td>\n",
              "      <td>NaN</td>\n",
              "      <td>NaN</td>\n",
              "      <td>NaN</td>\n",
              "      <td>NaN</td>\n",
              "      <td>NaN</td>\n",
              "      <td>NaN</td>\n",
              "      <td>5</td>\n",
              "    </tr>\n",
              "    <tr>\n",
              "      <th>1868</th>\n",
              "      <td>4.0</td>\n",
              "      <td>20.0</td>\n",
              "      <td>27.0</td>\n",
              "      <td>47.0</td>\n",
              "      <td>38.0</td>\n",
              "      <td>270000.0</td>\n",
              "      <td>0.008199</td>\n",
              "      <td>NaN</td>\n",
              "    </tr>\n",
              "  </tbody>\n",
              "</table>\n",
              "<p>1281 rows × 8 columns</p>\n",
              "</div>"
            ],
            "text/plain": [
              "      assignment_tries  problem_tries  ...  completed_percentage   CK\n",
              "1                  1.0            2.0  ...              0.000304  NaN\n",
              "4                  1.0           41.0  ...              0.011236  NaN\n",
              "5                  4.0            5.0  ...              0.000911  NaN\n",
              "6                  4.0           88.0  ...              0.025812  NaN\n",
              "7                  1.0            2.0  ...              0.000000  NaN\n",
              "...                ...            ...  ...                   ...  ...\n",
              "1862               2.0            6.0  ...              0.001215  7.5\n",
              "1864               5.0           63.0  ...              0.008503  NaN\n",
              "1865               3.0           17.0  ...              0.003037  7.5\n",
              "1866               NaN            NaN  ...                   NaN    5\n",
              "1868               4.0           20.0  ...              0.008199  NaN\n",
              "\n",
              "[1281 rows x 8 columns]"
            ]
          },
          "metadata": {
            "tags": []
          },
          "execution_count": 26
        }
      ]
    },
    {
      "cell_type": "code",
      "metadata": {
        "id": "3ZJ-gJgIYeYc"
      },
      "source": [
        "#Tỉ lệ problem hoàn thành trên các problem đã thử\n",
        "new_data['solved/tries'] = round(new_data['completed_problem']/new_data['problem_tries'],2)"
      ],
      "execution_count": null,
      "outputs": []
    },
    {
      "cell_type": "markdown",
      "metadata": {
        "id": "3SNaHmQLajHy"
      },
      "source": [
        "#Fill missing values"
      ]
    },
    {
      "cell_type": "code",
      "metadata": {
        "id": "3YPEVOw7ag5x",
        "colab": {
          "base_uri": "https://localhost:8080/",
          "height": 435
        },
        "outputId": "71794539-7d6b-4e84-bc8f-14d74b0e6c8a"
      },
      "source": [
        "new_data['assignment_tries'] = new_data['assignment_tries'].interpolate(method = 'pad',limit = 3)\n",
        "new_data['assignment_tries'] = new_data['assignment_tries'].fillna(int(np.mean(new_data['assignment_tries'])))\n",
        "\n",
        "new_data['problem_tries'] = new_data['problem_tries'].interpolate(method = 'pad',limit = 3)\n",
        "new_data['problem_tries'] = new_data['problem_tries'].fillna(int(np.mean(new_data['problem_tries'])))\n",
        "\n",
        "new_data['completed_problem'] = new_data['completed_problem'].interpolate(method = 'pad',limit = 3)\n",
        "new_data['completed_problem'] = new_data['completed_problem'].fillna(int(np.mean(new_data['completed_problem'])))\n",
        "\n",
        "new_data['submit_count'] = new_data['submit_count'].interpolate(method = 'pad',limit = 3)\n",
        "new_data['submit_count'] = new_data['submit_count'].fillna(int(np.mean(new_data['submit_count'])))\n",
        "\n",
        "new_data['total_pre_score'] = new_data['total_pre_score'].interpolate(method = 'pad',limit = 3)\n",
        "new_data['total_pre_score'] = new_data['total_pre_score'].fillna(int(np.mean(new_data['total_pre_score'])))\n",
        "\n",
        "new_data['total_score'] = new_data['total_score'].interpolate(method = 'pad',limit = 3)\n",
        "new_data['total_score'] = new_data['total_score'].fillna(int(np.mean(new_data['total_score'])))\n",
        "\n",
        "new_data['completed_percentage'] = new_data['completed_percentage'].interpolate(method = 'pad',limit = 3)\n",
        "new_data['completed_percentage'] = new_data['completed_percentage'].fillna(int(np.mean(new_data['completed_percentage'])))\n",
        "\n",
        "new_data['solved/tries'] = new_data['solved/tries'].interpolate(method = 'pad',limit = 3)\n",
        "new_data['solved/tries'] = new_data['solved/tries'].fillna(int(np.mean(new_data['solved/tries'])))\n",
        "\n",
        "new_data['CK'] = new_data['CK'].interpolate(method = 'pad',limit = 3)\n",
        "new_data['CK'] = new_data['CK'].fillna(0)\n",
        "\n",
        "new_data"
      ],
      "execution_count": null,
      "outputs": [
        {
          "output_type": "execute_result",
          "data": {
            "text/html": [
              "<div>\n",
              "<style scoped>\n",
              "    .dataframe tbody tr th:only-of-type {\n",
              "        vertical-align: middle;\n",
              "    }\n",
              "\n",
              "    .dataframe tbody tr th {\n",
              "        vertical-align: top;\n",
              "    }\n",
              "\n",
              "    .dataframe thead th {\n",
              "        text-align: right;\n",
              "    }\n",
              "</style>\n",
              "<table border=\"1\" class=\"dataframe\">\n",
              "  <thead>\n",
              "    <tr style=\"text-align: right;\">\n",
              "      <th></th>\n",
              "      <th>assignment_tries</th>\n",
              "      <th>problem_tries</th>\n",
              "      <th>completed_problem</th>\n",
              "      <th>submit_count</th>\n",
              "      <th>total_pre_score</th>\n",
              "      <th>total_score</th>\n",
              "      <th>completed_percentage</th>\n",
              "      <th>CK</th>\n",
              "      <th>solved/tries</th>\n",
              "    </tr>\n",
              "  </thead>\n",
              "  <tbody>\n",
              "    <tr>\n",
              "      <th>1</th>\n",
              "      <td>1.0</td>\n",
              "      <td>2.0</td>\n",
              "      <td>1.0</td>\n",
              "      <td>2.0</td>\n",
              "      <td>1.0</td>\n",
              "      <td>10000.0</td>\n",
              "      <td>0.000304</td>\n",
              "      <td>0</td>\n",
              "      <td>0.50</td>\n",
              "    </tr>\n",
              "    <tr>\n",
              "      <th>4</th>\n",
              "      <td>1.0</td>\n",
              "      <td>41.0</td>\n",
              "      <td>37.0</td>\n",
              "      <td>54.0</td>\n",
              "      <td>44.0</td>\n",
              "      <td>370000.0</td>\n",
              "      <td>0.011236</td>\n",
              "      <td>0</td>\n",
              "      <td>0.90</td>\n",
              "    </tr>\n",
              "    <tr>\n",
              "      <th>5</th>\n",
              "      <td>4.0</td>\n",
              "      <td>5.0</td>\n",
              "      <td>3.0</td>\n",
              "      <td>6.0</td>\n",
              "      <td>3.0</td>\n",
              "      <td>30000.0</td>\n",
              "      <td>0.000911</td>\n",
              "      <td>0</td>\n",
              "      <td>0.60</td>\n",
              "    </tr>\n",
              "    <tr>\n",
              "      <th>6</th>\n",
              "      <td>4.0</td>\n",
              "      <td>88.0</td>\n",
              "      <td>85.0</td>\n",
              "      <td>130.0</td>\n",
              "      <td>89.0</td>\n",
              "      <td>850000.0</td>\n",
              "      <td>0.025812</td>\n",
              "      <td>0</td>\n",
              "      <td>0.97</td>\n",
              "    </tr>\n",
              "    <tr>\n",
              "      <th>7</th>\n",
              "      <td>1.0</td>\n",
              "      <td>2.0</td>\n",
              "      <td>0.0</td>\n",
              "      <td>5.0</td>\n",
              "      <td>0.0</td>\n",
              "      <td>9209.0</td>\n",
              "      <td>0.000000</td>\n",
              "      <td>0</td>\n",
              "      <td>0.00</td>\n",
              "    </tr>\n",
              "    <tr>\n",
              "      <th>...</th>\n",
              "      <td>...</td>\n",
              "      <td>...</td>\n",
              "      <td>...</td>\n",
              "      <td>...</td>\n",
              "      <td>...</td>\n",
              "      <td>...</td>\n",
              "      <td>...</td>\n",
              "      <td>...</td>\n",
              "      <td>...</td>\n",
              "    </tr>\n",
              "    <tr>\n",
              "      <th>1862</th>\n",
              "      <td>2.0</td>\n",
              "      <td>6.0</td>\n",
              "      <td>4.0</td>\n",
              "      <td>12.0</td>\n",
              "      <td>4.0</td>\n",
              "      <td>40000.0</td>\n",
              "      <td>0.001215</td>\n",
              "      <td>7.5</td>\n",
              "      <td>0.67</td>\n",
              "    </tr>\n",
              "    <tr>\n",
              "      <th>1864</th>\n",
              "      <td>5.0</td>\n",
              "      <td>63.0</td>\n",
              "      <td>28.0</td>\n",
              "      <td>187.0</td>\n",
              "      <td>30.0</td>\n",
              "      <td>439741.0</td>\n",
              "      <td>0.008503</td>\n",
              "      <td>7.5</td>\n",
              "      <td>0.44</td>\n",
              "    </tr>\n",
              "    <tr>\n",
              "      <th>1865</th>\n",
              "      <td>3.0</td>\n",
              "      <td>17.0</td>\n",
              "      <td>10.0</td>\n",
              "      <td>99.0</td>\n",
              "      <td>10.0</td>\n",
              "      <td>116428.0</td>\n",
              "      <td>0.003037</td>\n",
              "      <td>7.5</td>\n",
              "      <td>0.59</td>\n",
              "    </tr>\n",
              "    <tr>\n",
              "      <th>1866</th>\n",
              "      <td>3.0</td>\n",
              "      <td>17.0</td>\n",
              "      <td>10.0</td>\n",
              "      <td>99.0</td>\n",
              "      <td>10.0</td>\n",
              "      <td>116428.0</td>\n",
              "      <td>0.003037</td>\n",
              "      <td>5</td>\n",
              "      <td>0.59</td>\n",
              "    </tr>\n",
              "    <tr>\n",
              "      <th>1868</th>\n",
              "      <td>4.0</td>\n",
              "      <td>20.0</td>\n",
              "      <td>27.0</td>\n",
              "      <td>47.0</td>\n",
              "      <td>38.0</td>\n",
              "      <td>270000.0</td>\n",
              "      <td>0.008199</td>\n",
              "      <td>5</td>\n",
              "      <td>1.35</td>\n",
              "    </tr>\n",
              "  </tbody>\n",
              "</table>\n",
              "<p>1281 rows × 9 columns</p>\n",
              "</div>"
            ],
            "text/plain": [
              "      assignment_tries  problem_tries  ...   CK  solved/tries\n",
              "1                  1.0            2.0  ...    0          0.50\n",
              "4                  1.0           41.0  ...    0          0.90\n",
              "5                  4.0            5.0  ...    0          0.60\n",
              "6                  4.0           88.0  ...    0          0.97\n",
              "7                  1.0            2.0  ...    0          0.00\n",
              "...                ...            ...  ...  ...           ...\n",
              "1862               2.0            6.0  ...  7.5          0.67\n",
              "1864               5.0           63.0  ...  7.5          0.44\n",
              "1865               3.0           17.0  ...  7.5          0.59\n",
              "1866               3.0           17.0  ...    5          0.59\n",
              "1868               4.0           20.0  ...    5          1.35\n",
              "\n",
              "[1281 rows x 9 columns]"
            ]
          },
          "metadata": {
            "tags": []
          },
          "execution_count": 34
        }
      ]
    },
    {
      "cell_type": "code",
      "metadata": {
        "id": "u73qRMF7LhTd"
      },
      "source": [
        "new_data['CK'] = pd.to_numeric(new_data['CK'], errors='coerce')"
      ],
      "execution_count": null,
      "outputs": []
    },
    {
      "cell_type": "code",
      "metadata": {
        "colab": {
          "base_uri": "https://localhost:8080/",
          "height": 540
        },
        "id": "6cKH_vP7IGhM",
        "outputId": "0a151057-438b-47b2-ae5a-c26c8b1a5315"
      },
      "source": [
        "fig, (ax1, ax2) = plt.subplots(1, 2, figsize = (20, 10))\n",
        "\n",
        "ax1.scatter(new_data['assignment_tries'].values, new_data['CK'].values)\n",
        "ax1.set(xlabel = 'assignment_tries', ylabel = 'CK')\n",
        "ax1.set_title('data1')\n",
        "\n",
        "ax2.scatter(new_data['problem_tries'].values, new_data['CK'].values)\n",
        "ax2.set(xlabel = 'problem_tries', ylabel = 'CK')\n",
        "ax2.set_title('data2')\n"
      ],
      "execution_count": null,
      "outputs": [
        {
          "output_type": "execute_result",
          "data": {
            "text/plain": [
              "Text(0.5, 1.0, 'data2')"
            ]
          },
          "metadata": {
            "tags": []
          },
          "execution_count": 42
        },
        {
          "output_type": "display_data",
          "data": {
            "image/png": "[encoded data removed]",
            "text/plain": [
              "<Figure size 1440x720 with 2 Axes>"
            ]
          },
          "metadata": {
            "tags": [],
            "needs_background": "light"
          }
        }
      ]
    },
    {
      "cell_type": "code",
      "metadata": {
        "colab": {
          "base_uri": "https://localhost:8080/",
          "height": 539
        },
        "id": "FCg-gzVdMeTr",
        "outputId": "a74aede7-8e67-4e20-a152-d70f9931fe37"
      },
      "source": [
        "fig, (ax3, ax4) = plt.subplots(1, 2, figsize = (20, 10))\n",
        "\n",
        "ax3.scatter(new_data['completed_problem'].values, new_data['CK'].values)\n",
        "ax3.set(xlabel = 'completed_problem', ylabel = 'CK')\n",
        "ax3.set_title('data3')\n",
        "\n",
        "ax4.scatter(new_data['submit_count'].values, new_data['CK'].values)\n",
        "ax4.set(xlabel = 'submit_count', ylabel = 'CK')\n",
        "ax4.set_title('data4')"
      ],
      "execution_count": null,
      "outputs": [
        {
          "output_type": "execute_result",
          "data": {
            "text/plain": [
              "Text(0.5, 1.0, 'data4')"
            ]
          },
          "metadata": {
            "tags": []
          },
          "execution_count": 41
        },
        {
          "output_type": "display_data",
          "data": {
            "image/png": "[encoded data removed]",
            "text/plain": [
              "<Figure size 1440x720 with 2 Axes>"
            ]
          },
          "metadata": {
            "tags": [],
            "needs_background": "light"
          }
        }
      ]
    },
    {
      "cell_type": "code",
      "metadata": {
        "colab": {
          "base_uri": "https://localhost:8080/",
          "height": 540
        },
        "id": "ZyvVYALbMfGA",
        "outputId": "52dde2f8-523b-4f12-a1f9-f997bf62669d"
      },
      "source": [
        "fig, (ax5, ax6) = plt.subplots(1, 2, figsize = (20, 10))\n",
        "\n",
        "ax5.scatter(new_data['total_pre_score'].values, new_data['CK'].values)\n",
        "ax5.set(xlabel = 'total_pre_score', ylabel = 'CK')\n",
        "ax5.set_title('data5')\n",
        "\n",
        "ax6.scatter(new_data['total_score'].values, new_data['CK'].values)\n",
        "ax6.set(xlabel = 'total_score', ylabel = 'CK')\n",
        "ax6.set_title('data6')"
      ],
      "execution_count": null,
      "outputs": [
        {
          "output_type": "execute_result",
          "data": {
            "text/plain": [
              "Text(0.5, 1.0, 'data6')"
            ]
          },
          "metadata": {
            "tags": []
          },
          "execution_count": 43
        },
        {
          "output_type": "display_data",
          "data": {
            "image/png": "[encoded data removed]",
            "text/plain": [
              "<Figure size 1440x720 with 2 Axes>"
            ]
          },
          "metadata": {
            "tags": [],
            "needs_background": "light"
          }
        }
      ]
    },
    {
      "cell_type": "code",
      "metadata": {
        "colab": {
          "base_uri": "https://localhost:8080/",
          "height": 540
        },
        "id": "6G_0wcPVMnNl",
        "outputId": "3b6d5761-bbb6-4d67-d02d-b5f061a6c459"
      },
      "source": [
        "fig, (ax7, ax8) = plt.subplots(1, 2, figsize = (20, 10))\n",
        "\n",
        "ax7.scatter(new_data['completed_percentage'].values, new_data['CK'].values)\n",
        "ax7.set(xlabel = 'completed_percentage', ylabel = 'CK')\n",
        "ax7.set_title('data7')\n",
        "\n",
        "ax8.scatter(new_data['solved/tries'].values, new_data['CK'].values)\n",
        "ax8.set(xlabel = 'solved/tries', ylabel = 'CK')\n",
        "ax8.set_title('data8')"
      ],
      "execution_count": null,
      "outputs": [
        {
          "output_type": "execute_result",
          "data": {
            "text/plain": [
              "Text(0.5, 1.0, 'data8')"
            ]
          },
          "metadata": {
            "tags": []
          },
          "execution_count": 44
        },
        {
          "output_type": "display_data",
          "data": {
            "image/png": "[encoded data removed]",
            "text/plain": [
              "<Figure size 1440x720 with 2 Axes>"
            ]
          },
          "metadata": {
            "tags": [],
            "needs_background": "light"
          }
        }
      ]
    },
    {
      "cell_type": "markdown",
      "metadata": {
        "id": "467tOXtuS6zu"
      },
      "source": [
        "Nhận xét:\n",
        "- Từ các plot chúng em có thể nhận thấy việc điểm thấp là do việc lười làm bài tập. Cụ thể là các thông số như problem_tries của những người bị điểm thấp chỉ dao động từ 0 đến 50 một số ít thì nằm trong khoảng 50 đến 100. Số problem hoàn thành của những người bị điểm thấp chỉ từ 100 trở xuống, số lần submit dưới 300, tổng số điểm của các problem chỉ từ 1000000 trở xuống và tỉ lệ số problem hoàn thành dưới 0.02 (2%).\n",
        "- Tuy nhiên chỉ số solved/tried có vẻ không phản ánh được năng lực của sinh viên vì chỉ số này phân bố rất đồng đều dù cho là bạn sinh viên thi được điểm cao hay điểm thấp.\n",
        "- Điểm số các bạn sinh viên phân bố từ 6 tới 8.5 rất nhiều và có vẻ các thông số trên không phân định rõ được năng lực của sinh viên đó vì các thông số phân bố rất đều khi miêu tả trên biểu đồ.\n",
        "- Ngoài ra, chúng em nghĩ một phần là do các điểm bị thiếu khá nhiều mà chúng em xử lý bằng cách gán các vị trí thiếu bằng giá trị 0 nên có thể dẫn đến biểu đồ phân bố sai. Vì vậy nếu có thể dự đoán được điểm quá trình, điểm giữa kỳ thì có thể giúp ích rất nhiều trong việc dự đoán điểm cuối kì khiến cho các biểu đồ có thể miêu tả chính xác hơn các thuộc tính quan trọng trong việc dự đoán điểm cuối kỳ."
      ]
    }
  ]
}